{
 "cells": [
  {
   "cell_type": "markdown",
   "metadata": {},
   "source": [
    "## **Analysis of single-cell RNA-Seq data of _Macaca fascicularis_ spematogenesis (E-MTAB-8979)**\n",
    "#### _**Author: Prabhakaran Munusamy**_"
   ]
  },
  {
   "cell_type": "code",
   "execution_count": null,
   "metadata": {},
   "outputs": [],
   "source": [
    "%config InlineBackend.figure_formats = [\"retina\"]\n",
    "import numpy as np\n",
    "import warnings\n",
    "warnings.filterwarnings(\"ignore\")\n",
    "import pandas as pd\n",
    "from scipy import stats\n",
    "import matplotlib.pyplot as plt\n",
    "import matplotlib.colors\n",
    "import seaborn as sns\n",
    "from  more_itertools import unique_everseen\n",
    "import scanpy as sc\n",
    "sc.settings.verbosity = 3 \n",
    "sc.logging.print_versions()\n",
    "sc.settings.n_jobs = 16"
   ]
  },
  {
   "cell_type": "code",
   "execution_count": null,
   "metadata": {},
   "outputs": [],
   "source": [
    "import anndata2ri\n",
    "anndata2ri.activate()"
   ]
  },
  {
   "cell_type": "code",
   "execution_count": null,
   "metadata": {},
   "outputs": [],
   "source": [
    "%reload_ext rpy2.ipython"
   ]
  },
  {
   "cell_type": "code",
   "execution_count": null,
   "metadata": {},
   "outputs": [],
   "source": [
    "plt.rcParams.update({\"font.family\":\"Reem Kufi\"})\n",
    "pd.set_option(\"display.max_rows\", 100)\n",
    "pd.set_option(\"display.max_columns\", 100)"
   ]
  },
  {
   "cell_type": "code",
   "execution_count": null,
   "metadata": {},
   "outputs": [],
   "source": [
    "# Custom heatmap colors\n",
    "heatcolors = matplotlib.colors.LinearSegmentedColormap.from_list(\"\", [\"gray\", \"#000004FF\", \"#330A5FFF\", \"#781C6DFF\",\n",
    "                                                                      \"#BB3754FF\", \"#ED6925FF\", \n",
    "                                                                      \"#FCB519FF\", \"#FCFFA4FF\"])\n",
    "\n",
    "heatcolors_wr = matplotlib.colors.LinearSegmentedColormap.from_list(\"\", [\"white\", \"#FFF5F0\", \"#FEE0D2\", \"#FCBBA1\", \n",
    "                                                                         \"#FC9272\", \"#FB6A4A\", \"#EF3B2C\", \n",
    "                                                                         \"#CB181D\", \"#A50F15\", \"#67000D\"])"
   ]
  },
  {
   "cell_type": "code",
   "execution_count": null,
   "metadata": {},
   "outputs": [],
   "source": [
    "sc.settings.set_figure_params(dpi=100, dpi_save=300, format=\"pdf\", frameon=True)\n",
    "sns.set_context(\"paper\", font_scale=1, rc={\"font.size\":8,\"axes.labelsize\":8,\"axes.titlesize\":14})"
   ]
  },
  {
   "cell_type": "code",
   "execution_count": null,
   "metadata": {},
   "outputs": [],
   "source": [
    "%%R\n",
    "# Load the libraries\n",
    "library(Matrix)\n",
    "library(scran)\n",
    "library(scater)\n",
    "library(DropletUtils)\n",
    "library(batchelor)\n",
    "library(ComplexHeatmap)\n",
    "library(circlize)\n",
    "library(dplyr)\n",
    "library(tidyverse)\n",
    "options(mc.cores = 24L)"
   ]
  },
  {
   "cell_type": "code",
   "execution_count": null,
   "metadata": {},
   "outputs": [],
   "source": [
    "%%R\n",
    "\n",
    "# Load the downloaded data\n",
    "# macaque cellranger matrix\n",
    "mat <- readMM(\"macaque_cellranger_matrix.mtx\")\n",
    "\n",
    "# macaque cells metadata\n",
    "cells_metadata <- read.table(\"macaque_cells_metadata.txt\")\n",
    "\n",
    "# macaque genes metadata\n",
    "genes_metadata <- read.table(\"macaque_genes_metadata.txt\")"
   ]
  },
  {
   "cell_type": "code",
   "execution_count": null,
   "metadata": {},
   "outputs": [],
   "source": [
    "%%R\n",
    "mf_sce <- SingleCellExperiment(assays = list(counts = as(mat, \"dgCMatrix\")), \n",
    "                                       colData = cells_metadata,\n",
    "                                       rowData = genes_metadata)\n",
    "rownames(mf_sce) <- rowData(mf_sce)$Symbol\n",
    "print(mf_sce)"
   ]
  },
  {
   "cell_type": "code",
   "execution_count": null,
   "metadata": {},
   "outputs": [],
   "source": [
    "%%R\n",
    "bcrank <- barcodeRanks(counts(mf_sce))\n",
    "\n",
    "# Only showing unique points for plotting speed.\n",
    "uniq <- !duplicated(bcrank$rank)\n",
    "plot(bcrank$rank[uniq], bcrank$total[uniq], log=\"xy\",\n",
    "    xlab=\"Rank\", ylab=\"Total UMI count\", cex.lab=1.2)\n",
    "\n",
    "abline(h=metadata(bcrank)$knee, col=\"dodgerblue\", lty=2)\n",
    "\n",
    "legend(\"bottomleft\", legend=c(\"Knee\"), \n",
    "        col=c(\"dodgerblue\"), lty=2, cex=1.2)"
   ]
  },
  {
   "cell_type": "code",
   "execution_count": null,
   "metadata": {},
   "outputs": [],
   "source": [
    "%%R\n",
    "MT.Genes <- c(\"ATP6\", \"ATP8\", \"COX1\", \"COX2\", \"COX3\", \"CYTB\", \"ND1\", \"ND2\", \"ND3\", \"ND4\", \"ND4L\", \"ND5\", \"ND6\")\n",
    "# Calculate QC metrics\n",
    "mf_sce <- addPerCellQC(mf_sce, subsets = list(mt=MT.Genes))\n",
    "\n",
    "# Remove low quality cells i.e., those with less than 200 genes expressed and less than 3500 UMI counts\n",
    "mf_sce <- mf_sce[,mf_sce$detected > 200 & mf_sce$sum > 3500 & mf_sce$sum < 100000 & mf_sce$subsets_mt_percent < 20]\n",
    "\n",
    "# Remove unxpressed genes \n",
    "mf_sce <- mf_sce[Matrix::rowSums(counts(mf_sce)) > 0, ]"
   ]
  },
  {
   "cell_type": "code",
   "execution_count": null,
   "metadata": {},
   "outputs": [],
   "source": [
    "%%R\n",
    "# Post mitochondrial content and UMI based filtering\n",
    "print(mf_sce)"
   ]
  },
  {
   "cell_type": "code",
   "execution_count": null,
   "metadata": {},
   "outputs": [],
   "source": [
    "%%R\n",
    "# Normalization\n",
    "set.seed(55063)\n",
    "clusters <- quickCluster(mf_sce)\n",
    "mf_sce <- computeSumFactors(mf_sce, cluster = clusters)\n",
    "mf_sce <- logNormCounts(mf_sce)\n",
    "\n",
    "# Identify HVGs\n",
    "set.seed(55063)\n",
    "mod_mf <- modelGeneVar(mf_sce)\n",
    "hvgs_mf <- getTopHVGs(mod_mf, prop = 0.1)\n",
    "\n",
    "# Dimensionality reduction\n",
    "set.seed(55063)\n",
    "mf_sce <- runPCA(mf_sce, subset_row = hvgs_mf)\n",
    "mf_sce <- runTSNE(mf_sce, dimred = \"PCA\", num_threads = 24, verbose = F)"
   ]
  },
  {
   "cell_type": "code",
   "execution_count": null,
   "metadata": {},
   "outputs": [],
   "source": [
    "%%R\n",
    "# Perform Batch correction\n",
    "# Identify HVGs accounting for different samples\n",
    "set.seed(55063)\n",
    "mod_mf_batch <- modelGeneVar(mf_sce, block = colData(mf_sce)$Sample)\n",
    "hvgs_mf_batch <- getTopHVGs(mod_mf_batch, prop = 0.1)\n",
    "\n",
    "set.seed(55063)\n",
    "mf_sce_corrected <- fastMNN(mf_sce, subset.row = hvgs_mf_batch, batch=mf_sce$Sample)\n",
    "\n",
    "set.seed(55063)\n",
    "mf_sce_corrected <- runTSNE(mf_sce_corrected, dimred = \"corrected\", perplexity=300, num_threads = 12, verbose = F)\n",
    "reducedDim(mf_sce, \"mnn\") <- reducedDim(mf_sce_corrected, \"corrected\")\n",
    "reducedDim(mf_sce, \"mnnTSNE\") <- reducedDim(mf_sce_corrected, \"TSNE\")"
   ]
  },
  {
   "cell_type": "code",
   "execution_count": null,
   "metadata": {},
   "outputs": [],
   "source": [
    "%%R -o mf_sce\n",
    "# Number of HVGs used for batch correction\n",
    "length(hvgs_mf_batch)"
   ]
  },
  {
   "cell_type": "code",
   "execution_count": null,
   "metadata": {},
   "outputs": [],
   "source": [
    "mf_sce.var_names_make_unique()"
   ]
  },
  {
   "cell_type": "code",
   "execution_count": null,
   "metadata": {},
   "outputs": [],
   "source": [
    "mf_sce.obs['Library'] = mf_sce.obs['Sample']"
   ]
  },
  {
   "cell_type": "code",
   "execution_count": null,
   "metadata": {},
   "outputs": [],
   "source": [
    "mf_sce.obs['batch'] = mf_sce.obs['Library'].replace({\n",
    "    \"MUX8555\":\"-0\",\n",
    "    \"MUX8990\": \"-1\",\n",
    "    \"MUX8991\": \"-2\",\n",
    "    \"MUX9780\": \"-3\",\n",
    "    \"SSEA4\": \"-4\"\n",
    "})"
   ]
  },
  {
   "cell_type": "code",
   "execution_count": null,
   "metadata": {},
   "outputs": [],
   "source": [
    "mf_sce.obs['Sample'] = mf_sce.obs['Library'].replace({\n",
    "    \"MUX8555\":\"Adult1\",\n",
    "    \"MUX8990\": \"Infant\",\n",
    "    \"MUX8991\": \"Juvenile\",\n",
    "    \"MUX9780\": \"Adult2\",\n",
    "    \"SSEA4\": \"Adult2_SSEA4+\"\n",
    "})"
   ]
  },
  {
   "cell_type": "code",
   "execution_count": null,
   "metadata": {},
   "outputs": [],
   "source": [
    "mf_sce.obs.index = mf_sce.obs['Barcode']+mf_sce.obs['batch']"
   ]
  },
  {
   "cell_type": "code",
   "execution_count": null,
   "metadata": {},
   "outputs": [],
   "source": [
    "mf_sce.obs['Sample'].value_counts() # Number of cells in each animal"
   ]
  },
  {
   "cell_type": "code",
   "execution_count": null,
   "metadata": {},
   "outputs": [],
   "source": [
    "mf_sce.obs['sum'].mean() # Mean of UMI counts across all cells"
   ]
  },
  {
   "cell_type": "code",
   "execution_count": null,
   "metadata": {},
   "outputs": [],
   "source": [
    "mf_sce.obs['sum'].describe() # Descriptive statistics of UMI counts across all cells"
   ]
  },
  {
   "cell_type": "code",
   "execution_count": null,
   "metadata": {},
   "outputs": [],
   "source": [
    "mf_sce.obs['detected'].mean() # Mean of genes detected across all cells"
   ]
  },
  {
   "cell_type": "code",
   "execution_count": null,
   "metadata": {},
   "outputs": [],
   "source": [
    "mf_sce.obs['detected'].describe() # Descriptive statistics of genes detected across all cells"
   ]
  },
  {
   "cell_type": "code",
   "execution_count": null,
   "metadata": {},
   "outputs": [],
   "source": [
    "mf_sce.obs[\"Sample\"] = mf_sce.obs[\"Sample\"].astype(\"category\").cat.reorder_categories([\"Infant\", \"Juvenile\", \"Adult1\", \"Adult2\", \"Adult2_SSEA4+\"],ordered=True)"
   ]
  },
  {
   "cell_type": "code",
   "execution_count": null,
   "metadata": {},
   "outputs": [],
   "source": [
    "sc.pl.tsne(mf_sce, color = [\"Sample\"], palette=[\"royalblue\", \"forestgreen\", \"red\", \"darkorange\", \"skyblue\"],\n",
    "           size = 10, \n",
    "           edgecolor = \"black\", \n",
    "           linewidths = 0.1,\n",
    "           ncols = 2, \n",
    "           legend_fontsize = 10,legend_loc=\"right margin\", title=\"Before batch correction\")"
   ]
  },
  {
   "cell_type": "code",
   "execution_count": null,
   "metadata": {},
   "outputs": [],
   "source": [
    "mf_sce.obsm['X_tsne'] = mf_sce.obsm['mnnTSNE']"
   ]
  },
  {
   "cell_type": "code",
   "execution_count": null,
   "metadata": {},
   "outputs": [],
   "source": [
    "sc.pl.tsne(mf_sce, color = [\"sum\"], \n",
    "           size = 10, \n",
    "           edgecolor = \"black\", cmap = \"viridis\",\n",
    "           linewidths = 0.1,\n",
    "           ncols = 2, \n",
    "           legend_fontsize = 10,  legend_loc=\"right margin\", title=\"No. of UMIs\")"
   ]
  },
  {
   "cell_type": "code",
   "execution_count": null,
   "metadata": {},
   "outputs": [],
   "source": [
    "sc.pl.tsne(mf_sce, color = [\"Sample\"], \n",
    "           size = 10, \n",
    "           edgecolor = \"black\", \n",
    "           linewidths = 0.1,\n",
    "           ncols = 2, \n",
    "           legend_fontsize = 10,  legend_loc=\"right margin\", title=\"After batch correction\")"
   ]
  },
  {
   "cell_type": "code",
   "execution_count": null,
   "metadata": {},
   "outputs": [],
   "source": [
    "for s in [\"Infant\", \"Juvenile\", \"Adult1\", \"Adult2\", \"Adult2_SSEA4+\"]:\n",
    "    sc.pl.tsne(mf_sce, color=[ \"Sample\"], palette=[\"royalblue\", \"forestgreen\", \"red\", \"darkorange\", \"skyblue\"],\n",
    "               groups=s,size=10, edgecolor=\"black\", linewidths=0.05, ncols=1, legend_fontsize=10, cmap=\"viridis\",\n",
    "               legend_fontoutline=1,  title=s)"
   ]
  },
  {
   "cell_type": "code",
   "execution_count": null,
   "metadata": {},
   "outputs": [],
   "source": [
    "mf_sce.obsm[\"X_pca\"] = mf_sce.obsm[\"mnn\"]"
   ]
  },
  {
   "cell_type": "code",
   "execution_count": null,
   "metadata": {},
   "outputs": [],
   "source": [
    "sc.pp.neighbors(mf_sce, n_neighbors = 5)"
   ]
  },
  {
   "cell_type": "code",
   "execution_count": null,
   "metadata": {},
   "outputs": [],
   "source": [
    "sc.tl.leiden(mf_sce, resolution = 2, key_added = 'leiden_2')"
   ]
  },
  {
   "cell_type": "code",
   "execution_count": null,
   "metadata": {},
   "outputs": [],
   "source": [
    "sc.pl.tsne(mf_sce, color=[\"leiden_2\"], size=10, legend_loc = \"on data\", edgecolor = \"black\", linewidths = 0.1, ncols = 3, \n",
    "           legend_fontsize = 8, alpha=1,  legend_fontoutline=1,\n",
    "           title=\"Leiden clustering: resolution of 2 with n_neighbors of 5\")"
   ]
  },
  {
   "cell_type": "code",
   "execution_count": null,
   "metadata": {},
   "outputs": [],
   "source": [
    "wv = sc.pl.stacked_violin(mf_sce, var_names=[\"DDX4\", \"ENSMFAG00000037727\", \"ID4\", \"FGFR3\", \"SOHLH1\", \"UCHL1\", \"REC8\",\n",
    "                                             \"STRA8\", \"SYCP3\", \"AURKA\",\"ACRV1\", \"SPACA1\", \"PRM2\",\"OAZ3\", \"SPEM1\", \"VIM\",\n",
    "                                             \"CD74\", \"VWF\", \"ACTA2\", \"TAGLN\", \"CLU\", \"AMH\", \"SOX9\",\"INSL3\", \"INHBA\", \"MYH11\",\n",
    "                                             \"MYH1\", \"CYP11A\", \"ID2\", \"RORA\", \"IGF1\", \"IGF1\", \"IGFBP5\", \"IGFBP5\", \"MYL9\", \"TPM2\"],\n",
    "                    groupby=\"leiden_2\", swap_axes=True, layer=\"logcounts\")"
   ]
  },
  {
   "cell_type": "code",
   "execution_count": null,
   "metadata": {},
   "outputs": [],
   "source": [
    "mf_sce.obs['broadcluster'] = mf_sce.obs['leiden_2']\n",
    "\n",
    "mf_sce.obs['broadcluster'] = mf_sce.obs['broadcluster'].astype('str')"
   ]
  },
  {
   "cell_type": "code",
   "execution_count": null,
   "metadata": {},
   "outputs": [],
   "source": [
    "mf_sce.obs['broadcluster'][mf_sce.obs['broadcluster'].isin([\"0\", \"3\", \"5\", \"39\", \"41\", \"42\"])]=\"Somatic\"\n",
    "mf_sce.obs['broadcluster'][mf_sce.obs['broadcluster'].isin([\"31\", \"37\", \"40\", \"44\", \"45\", \"46\", \"47\", \"48\", \"49\", \"50\", \"51\", \"52\", \"53\"])] = \"Outliers\"\n",
    "mf_sce.obs['broadcluster'][~mf_sce.obs['broadcluster'].isin([\"Outliers\", \"Somatic\"])] = \"Germ\""
   ]
  },
  {
   "cell_type": "code",
   "execution_count": null,
   "metadata": {},
   "outputs": [],
   "source": [
    "sc.pl.tsne(mf_sce, color=[\"broadcluster\"], \n",
    "           size=10,\n",
    "           edgecolor = \"black\", \n",
    "           linewidths = 0.1,\n",
    "           legend_fontsize = 10, \n",
    "           alpha=1,  title=\"\")"
   ]
  },
  {
   "cell_type": "code",
   "execution_count": null,
   "metadata": {},
   "outputs": [],
   "source": [
    "mf_leiden_clusters = mf_sce.obs['leiden_2'] # Save the cluster info to a variable and export it to R #do not re-run after clusters are called -> i.e. for the next step to be stable"
   ]
  },
  {
   "cell_type": "code",
   "execution_count": null,
   "metadata": {},
   "outputs": [],
   "source": [
    "%%R -i mf_leiden_clusters\n",
    "mf_sce$mf_leiden_clusters = mf_leiden_clusters\n",
    "mf_sce$broadcluster <- as.character(mf_sce$mf_leiden_clusters)"
   ]
  },
  {
   "cell_type": "code",
   "execution_count": null,
   "metadata": {},
   "outputs": [],
   "source": [
    "%%R\n",
    "# Based on marker gene expression, assign identity to the cells i.e., Germ, somatic, and outliers\n",
    "mf_sce$broadcluster[mf_sce$broadcluster %in% c(\"0\", \"3\", \"5\", \"39\", \"41\", \"42\")] = \"Somatic\"\n",
    "\n",
    "mf_sce$broadcluster[mf_sce$broadcluster %in% c(\"31\", \"37\", \"40\", \"44\", \"45\", \"46\", \"47\", \"48\", \"49\", \"50\", \"51\", \"52\", \"53\")] = \"Outliers\"\n",
    "\n",
    "mf_sce$broadcluster[!mf_sce$broadcluster %in% c(\"Outliers\", \"Somatic\")] = \"Germ\""
   ]
  },
  {
   "cell_type": "markdown",
   "metadata": {},
   "source": [
    "## *Analysis of Macaque germ and somatic cells*"
   ]
  },
  {
   "cell_type": "code",
   "execution_count": null,
   "metadata": {},
   "outputs": [],
   "source": [
    "%%R -o mf_sce_gs\n",
    "# Exclude the Outlier cells and perform batch correction\n",
    "mf_sce_gs <- mf_sce[,mf_sce$broadcluster!=\"Outliers\"]\n",
    "mf_sce_gs <- mf_sce_gs[Matrix::rowSums(counts(mf_sce_gs)) > 0, ]\n",
    "mf_sce_gs$mf_leiden_clusters <- factor(mf_sce_gs$mf_leiden_clusters)\n",
    "\n",
    "# Identify HVGs based on sample\n",
    "set.seed(55063)\n",
    "mod_mf_batch_gs <- modelGeneVar(mf_sce_gs, block=colData(mf_sce_gs)$Sample)\n",
    "hvgs_mf_batch_gs <- getTopHVGs(mod_mf_batch_gs, prop=0.1)\n",
    "print(paste(\"HVGs used:\",length(hvgs_mf_batch_gs)))\n",
    "\n",
    "set.seed(55063)\n",
    "mf_sce_gs_corrected <- fastMNN(mf_sce_gs, subset.row=hvgs_mf_batch_gs, batch=mf_sce_gs$Sample)\n",
    "reducedDim(mf_sce_gs, \"mnn\") <- reducedDim(mf_sce_gs_corrected, \"corrected\")\n",
    "mf_sce_gs$mf_leiden_clusters <- as.character(mf_sce_gs$mf_leiden_clusters)"
   ]
  },
  {
   "cell_type": "code",
   "execution_count": null,
   "metadata": {},
   "outputs": [],
   "source": [
    "mf_sce_gs.var_names_make_unique()"
   ]
  },
  {
   "cell_type": "code",
   "execution_count": null,
   "metadata": {},
   "outputs": [],
   "source": [
    "mf_sce_gs.obs['Library'] = mf_sce_gs.obs['Sample']\n",
    "\n",
    "mf_sce_gs.obs['batch'] = mf_sce_gs.obs['Library'].replace({\n",
    "    \"MUX8555\":\"-0\",\n",
    "    \"MUX8990\": \"-1\",\n",
    "    \"MUX8991\": \"-2\",\n",
    "    \"MUX9780\": \"-3\",\n",
    "    \"SSEA4\": \"-4\"\n",
    "})\n",
    "\n",
    "mf_sce_gs.obs['Sample'] = mf_sce_gs.obs['Library'].replace({\n",
    "    \"MUX8555\":\"Adult1\",\n",
    "    \"MUX8990\": \"Infant\",\n",
    "    \"MUX8991\": \"Juvenile\",\n",
    "    \"MUX9780\": \"Adult2\",\n",
    "    \"SSEA4\": \"Adult2_SSEA4+\"\n",
    "})\n",
    "mf_sce_gs.obs.index = mf_sce_gs.obs['Barcode']+mf_sce_gs.obs['batch']"
   ]
  },
  {
   "cell_type": "code",
   "execution_count": null,
   "metadata": {},
   "outputs": [],
   "source": [
    "mf_sce_gs.obs[\"Sample\"] = mf_sce_gs.obs[\"Sample\"].astype(\"category\").cat.reorder_categories([\"Infant\", \"Juvenile\", \"Adult1\", \"Adult2\", \"Adult2_SSEA4+\"],ordered=True)"
   ]
  },
  {
   "cell_type": "code",
   "execution_count": null,
   "metadata": {},
   "outputs": [],
   "source": [
    "mf_sce_gs.obs['sum'].describe() #Descriptive statistics of UMI counts across all cells excluding outliers"
   ]
  },
  {
   "cell_type": "code",
   "execution_count": null,
   "metadata": {},
   "outputs": [],
   "source": [
    "mf_sce_gs.obs['detected'].describe() #Descriptive statistics of genes detected across all cells excluding outliers"
   ]
  },
  {
   "cell_type": "code",
   "execution_count": null,
   "metadata": {},
   "outputs": [],
   "source": [
    "mf_sce_gs.obsm['X_tsne']=mf_sce_gs.obsm['mnnTSNE']\n",
    "\n",
    "mf_sce_gs.obsm['X_pca']=mf_sce_gs.obsm['mnn']"
   ]
  },
  {
   "cell_type": "code",
   "execution_count": null,
   "metadata": {},
   "outputs": [],
   "source": [
    "sc.pl.tsne(mf_sce_gs, color=[\"broadcluster\"], size=8, \n",
    "           legend_loc=\"on data\", edgecolor=\"black\", linewidths=0.1, ncols=3, legend_fontsize=6, alpha=0.5, legend_fontoutline=1)"
   ]
  },
  {
   "cell_type": "code",
   "execution_count": null,
   "metadata": {},
   "outputs": [],
   "source": [
    "sc.tl.dendrogram(mf_sce_gs, groupby=\"mf_leiden_clusters\")"
   ]
  },
  {
   "cell_type": "code",
   "execution_count": null,
   "metadata": {},
   "outputs": [],
   "source": [
    "sc.pl.correlation_matrix(mf_sce_gs, groupby=\"mf_leiden_clusters\", figsize=(10,7))"
   ]
  },
  {
   "cell_type": "code",
   "execution_count": null,
   "metadata": {},
   "outputs": [],
   "source": [
    "sc.pl.stacked_violin(mf_sce_gs, groupby=\"mf_leiden_clusters\", \n",
    "                     var_names=[\"ACTA2\", \"TAGLN\", \"INHBA\",\"CYP11A\", \"INSL3\", \"AMH\",\n",
    "                                \"CLU\", \"CD74\", \"VWF\", \"ID4\", \"ENSMFAG00000037727\", \"UCHL1\", \"SOHLH1\", \"STRA8\",\n",
    "                                \"SYCP3\", \"PIWIL1\", \"AURKA\", \"ACRV1\", \"NME5\", \"AKAP14\", \"TNP2\", \"PRM2\", \"OAZ3\", \"CRISP2\", \"SPEM1\"],\n",
    "                     swap_axes=True, layer=\"logcounts\");           "
   ]
  },
  {
   "cell_type": "code",
   "execution_count": null,
   "metadata": {},
   "outputs": [],
   "source": [
    "sc.pl.tsne(mf_sce_gs, color=[\"ACTA2\", \"TAGLN\", \"INHBA\",\"CYP11A\", \"INSL3\", \"AMH\", \"CLU\", \"CD74\", \"VWF\", \n",
    "                             \"ID4\", \"UCHL1\", \"SOHLH1\", \"STRA8\", \"SYCP3\", \"PIWIL1\", \"AURKA\", \"ACRV1\", \"NME5\",\n",
    "                             \"AKAP14\", \"TNP2\", \"PRM2\", \"OAZ3\", \"CRISP2\", \"SPEM1\"], \n",
    "           legend_fontsize=8, color_map=heatcolors, \n",
    "           size=20, edgecolor=\"black\", linewidths=0.1, ncols=4, layer=\"logcounts\", wspace=0.1, hspace=0.2)"
   ]
  },
  {
   "cell_type": "code",
   "execution_count": null,
   "metadata": {},
   "outputs": [],
   "source": [
    "gsconditions = [\n",
    "    (mf_sce_gs.obs[\"mf_leiden_clusters\"].isin([\"0\"])),#Myoid\n",
    "    (mf_sce_gs.obs[\"mf_leiden_clusters\"].isin([\"3\"])),#Immature Leydig\n",
    "    (mf_sce_gs.obs[\"mf_leiden_clusters\"].isin([\"42\"])),#Leydig\n",
    "    (mf_sce_gs.obs[\"mf_leiden_clusters\"].isin([\"39\"])),#Sertoli\n",
    "    (mf_sce_gs.obs[\"mf_leiden_clusters\"].isin([\"41\"])),#Macrophage\n",
    "    (mf_sce_gs.obs[\"mf_leiden_clusters\"].isin([\"5\"])),#Endothelial\n",
    "    (mf_sce_gs.obs[\"mf_leiden_clusters\"].isin([\"43\", \"9\", \"4\", \"28\", \"2\", \"34\"])),#Spermatogonia\n",
    "    (mf_sce_gs.obs[\"mf_leiden_clusters\"].isin([\"35\", \"27\", \"36\", \"33\", \"17\",\"8\", \"16\", \n",
    "                                               \"25\", \"1\", \"24\", \"15\", \"21\", \"10\", \"11\", \"26\"])),#Spermatocytes\n",
    "    (mf_sce_gs.obs[\"mf_leiden_clusters\"].isin([\"13\",\"12\", \"22\", \"20\", \"23\", \"32\", \"29\"])),#Round spermatids\n",
    "    (mf_sce_gs.obs[\"mf_leiden_clusters\"].isin([\"38\", \"14\", \"18\", \"7\", \"30\", \"6\"])),#Elongating Spermatids\n",
    "    (mf_sce_gs.obs[\"mf_leiden_clusters\"].isin([\"19\"]))]#Sperm\n",
    "gsgroups = [\"Myoid\", \"Immature Leydig\", \"Leydig\", \"Sertoli\", \"Macrophage\", \"Endothelial\", \n",
    "            \"Spermatogonia\", \"Spermatocytes\",\"Round spermatids\",\"Elongating spermatids\",\"Immature Sperm\"]"
   ]
  },
  {
   "cell_type": "code",
   "execution_count": null,
   "metadata": {},
   "outputs": [],
   "source": [
    "gs_clusters = np.select(gsconditions, gsgroups, default=\"Germ\")"
   ]
  },
  {
   "cell_type": "code",
   "execution_count": null,
   "metadata": {},
   "outputs": [],
   "source": [
    "mf_sce_gs.obs[\"broad_clusters\"] = gs_clusters"
   ]
  },
  {
   "cell_type": "code",
   "execution_count": null,
   "metadata": {},
   "outputs": [],
   "source": [
    "mf_sce_gs.obs[\"broad_clusters\"] = mf_sce_gs.obs[\"broad_clusters\"].astype(\"category\").cat.reorder_categories([\"Myoid\", \"Immature Leydig\", \"Leydig\", \"Sertoli\", \"Macrophage\", \"Endothelial\",\n",
    "                                                                                                             \"Spermatogonia\", \"Spermatocytes\", \"Round spermatids\",\"Elongating spermatids\",\"Immature Sperm\"],ordered=True)"
   ]
  },
  {
   "cell_type": "code",
   "execution_count": null,
   "metadata": {},
   "outputs": [],
   "source": [
    "mf_sce_gs.obs['broad_clusters_short'] = mf_sce_gs.obs['broad_clusters']"
   ]
  },
  {
   "cell_type": "code",
   "execution_count": null,
   "metadata": {},
   "outputs": [],
   "source": [
    "mf_sce_gs.obs['broad_clusters_short'] = mf_sce_gs.obs['broad_clusters_short'].replace({\n",
    "    \"Round spermatids\":\"Round STids\",\n",
    "    \"Elongating spermatids\": \"Elongating STids\"\n",
    "})"
   ]
  },
  {
   "cell_type": "code",
   "execution_count": null,
   "metadata": {},
   "outputs": [],
   "source": [
    "mf_sce_gs.obs['mf_leiden_clusters_celltype'] = mf_sce_gs.obs['mf_leiden_clusters'].astype(str) +\"-\"+mf_sce_gs.obs['broad_clusters_short'].astype(str)"
   ]
  },
  {
   "cell_type": "code",
   "execution_count": null,
   "metadata": {},
   "outputs": [],
   "source": [
    "mf_sce_gs.obs['mf_broadclusters_celltype_Sample'] = mf_sce_gs.obs['broad_clusters_short'].astype(str)+\"-\"+mf_sce_gs.obs['Sample'].astype(str)"
   ]
  },
  {
   "cell_type": "code",
   "execution_count": null,
   "metadata": {},
   "outputs": [],
   "source": [
    "cols_clusters = [\"#FFB292\",\"gold\", \"lightslategray\", \"#936C00\",\"lime\", \"red\", \"#F16913\",  \"#4C7C5E\", \"#2171B5\",\"#eaa9bd\", \"#91357d\"]"
   ]
  },
  {
   "cell_type": "code",
   "execution_count": null,
   "metadata": {},
   "outputs": [],
   "source": [
    "sc.pl.tsne(mf_sce_gs, color=[\"broad_clusters\"], legend_fontsize=10, palette=cols_clusters, \n",
    "           size=20, edgecolor=\"black\", linewidths=0.1, title=\"\")"
   ]
  },
  {
   "cell_type": "code",
   "execution_count": null,
   "metadata": {},
   "outputs": [],
   "source": [
    "sc.tl.dendrogram(mf_sce_gs, groupby=\"mf_leiden_clusters_celltype\")"
   ]
  },
  {
   "cell_type": "code",
   "execution_count": null,
   "metadata": {},
   "outputs": [],
   "source": [
    "sc.pl.correlation_matrix(mf_sce_gs, groupby=\"mf_leiden_clusters_celltype\", figsize=(10,6), dendrogram=True)"
   ]
  },
  {
   "cell_type": "code",
   "execution_count": null,
   "metadata": {},
   "outputs": [],
   "source": [
    "sc.tl.dendrogram(mf_sce_gs, groupby=\"mf_broadclusters_celltype_Sample\")"
   ]
  },
  {
   "cell_type": "code",
   "execution_count": null,
   "metadata": {},
   "outputs": [],
   "source": [
    "sc.pl.correlation_matrix(mf_sce_gs, groupby=\"mf_broadclusters_celltype_Sample\", figsize=(12,8), dendrogram=True)"
   ]
  },
  {
   "cell_type": "code",
   "execution_count": null,
   "metadata": {},
   "outputs": [],
   "source": [
    "sc.tl.rank_genes_groups(mf_sce_gs, \"broad_clusters\", n_genes = 6000, method = \"wilcoxon\", layer = \"logcounts\", use_raw = False)"
   ]
  },
  {
   "cell_type": "code",
   "execution_count": null,
   "metadata": {},
   "outputs": [],
   "source": [
    "gslist = {}\n",
    "for i in mf_sce_gs.obs[\"broad_clusters\"].cat.categories:\n",
    "    genes = sc.get.rank_genes_groups_df(mf_sce_gs, group=i,pval_cutoff=0.01, log2fc_min=1.25, \n",
    "                                        key=\"rank_genes_groups\").sort_values(by=[\"logfoldchanges\"], ascending=[False]).dropna(axis=0)[\"names\"].to_list()\n",
    "    gslist[i] = genes"
   ]
  },
  {
   "cell_type": "code",
   "execution_count": null,
   "metadata": {},
   "outputs": [],
   "source": [
    "for key, value in gslist.items():\n",
    "    #print value\n",
    "    print(key, len([item for item in value if item]))"
   ]
  },
  {
   "cell_type": "code",
   "execution_count": null,
   "metadata": {},
   "outputs": [],
   "source": [
    "gs_L1 = []\n",
    "for i in mf_sce_gs.obs[\"broad_clusters\"].cat.categories:\n",
    "    genes = sc.get.rank_genes_groups_df(mf_sce_gs, group=i,pval_cutoff=0.01, \n",
    "                                        log2fc_min=1.25, key=\"rank_genes_groups\").sort_values(by=\"logfoldchanges\", ascending=False).dropna(axis=0)[\"names\"].to_list()\n",
    "    gs_L1.extend(genes) "
   ]
  },
  {
   "cell_type": "code",
   "execution_count": null,
   "metadata": {},
   "outputs": [],
   "source": [
    "gs_unique_genes = list(unique_everseen(gs_L1))\n",
    "len(gs_unique_genes)"
   ]
  },
  {
   "cell_type": "code",
   "execution_count": null,
   "metadata": {},
   "outputs": [],
   "source": [
    "ax, mean = sc.pl.matrixplot(mf_sce_gs, gs_unique_genes, groupby=\"broad_clusters\", figsize=(3, 4),\n",
    "                            standard_scale=\"var\", linewidth=.000001,swap_axes=True,\n",
    "                            cmap=heatcolors_wr, dendrogram=False, layer=\"logcounts\", show=False,\n",
    "                            show_gene_labels=False)"
   ]
  },
  {
   "cell_type": "code",
   "execution_count": null,
   "metadata": {},
   "outputs": [],
   "source": [
    "pd.crosstab(mf_sce_gs.obs['Sample'], mf_sce_gs.obs['broad_clusters'])"
   ]
  },
  {
   "cell_type": "code",
   "execution_count": null,
   "metadata": {},
   "outputs": [],
   "source": [
    "cellcounts = pd.crosstab( mf_sce_gs.obs['Sample'], mf_sce_gs.obs['broad_clusters'])"
   ]
  },
  {
   "cell_type": "code",
   "execution_count": null,
   "metadata": {},
   "outputs": [],
   "source": [
    "def reset_index(df):\n",
    "    '''Returns DataFrame with index as columns'''\n",
    "    index_df = df.index.to_frame(index=False)\n",
    "    df = df.reset_index(drop=True)\n",
    "    return pd.merge(index_df, df, left_index=True, right_index=True)"
   ]
  },
  {
   "cell_type": "code",
   "execution_count": null,
   "metadata": {},
   "outputs": [],
   "source": [
    "cellcounts = reset_index(cellcounts)\n",
    "\n",
    "germ_cellcounts = cellcounts[['Sample', 'Spermatogonia','Spermatocytes', 'Round spermatids', 'Elongating spermatids','Immature Sperm']]\n",
    "\n",
    "somatic_cellcounts = cellcounts[['Sample', 'Myoid', 'Immature Leydig', 'Leydig', 'Sertoli','Macrophage', 'Endothelial']]"
   ]
  },
  {
   "cell_type": "code",
   "execution_count": null,
   "metadata": {},
   "outputs": [],
   "source": [
    "germ_cellcounts.set_index('Sample', inplace=True)"
   ]
  },
  {
   "cell_type": "code",
   "execution_count": null,
   "metadata": {},
   "outputs": [],
   "source": [
    "## Draw pie chart to show cell count distribution\n",
    "germ_cellcounts = germ_cellcounts.div(germ_cellcounts.sum(axis=1), axis=0)\n",
    "\n",
    "fig, axs = plt.subplots(ncols=germ_cellcounts.index.size, nrows=1, figsize=(7,2))\n",
    "\n",
    "fig.subplots_adjust(hspace=0.5, wspace=0.05)\n",
    "#l=[]\n",
    "for row in range(germ_cellcounts.index.size):\n",
    "    fig.add_subplot(axs[row] )\n",
    "    plt.pie(germ_cellcounts.loc[germ_cellcounts.index[row],:],labels=None, colors=[\"#F16913\",  \"#4C7C5E\", \"#2171B5\",\"#eaa9bd\", \"#91357d\"])\n",
    "    plt.title(germ_cellcounts.index[row], fontsize=12)\n",
    "    #plt.axis('equal')\n",
    "    plt.tight_layout()\n",
    "    plt.axis('off')\n",
    "fig.legend(germ_cellcounts.columns, ncol=1,loc='upper left', bbox_to_anchor=(1, 0.7), fontsize=10);"
   ]
  },
  {
   "cell_type": "code",
   "execution_count": null,
   "metadata": {},
   "outputs": [],
   "source": [
    "somatic_cellcounts.set_index('Sample', inplace=True)"
   ]
  },
  {
   "cell_type": "code",
   "execution_count": null,
   "metadata": {},
   "outputs": [],
   "source": [
    "somatic_cellcounts = somatic_cellcounts.div(somatic_cellcounts.sum(axis=1), axis=0)\n",
    "\n",
    "fig, axs = plt.subplots(ncols=somatic_cellcounts.index.size, nrows=1, figsize=(7,2))\n",
    "\n",
    "fig.subplots_adjust(hspace=0.5, wspace=0.05)\n",
    "#l=[]\n",
    "for row in range(somatic_cellcounts.index.size):\n",
    "    fig.add_subplot(axs[row] )\n",
    "    plt.pie(somatic_cellcounts.loc[somatic_cellcounts.index[row],:],labels=None, colors=[\"#FFB292\",\"gold\", \"lightslategray\", \"#936C00\",\"lime\", \"red\"])\n",
    "    plt.title(somatic_cellcounts.index[row], fontsize=12)\n",
    "    #plt.axis('equal')\n",
    "    plt.tight_layout()\n",
    "    plt.axis('off')\n",
    "fig.legend(somatic_cellcounts.columns, ncol=1,loc='upper left', bbox_to_anchor=(1, 0.8), fontsize=10);"
   ]
  },
  {
   "cell_type": "code",
   "execution_count": null,
   "metadata": {},
   "outputs": [],
   "source": [
    "## GO term plot"
   ]
  },
  {
   "cell_type": "code",
   "execution_count": null,
   "metadata": {},
   "outputs": [],
   "source": [
    "sc.settings.set_figure_params(dpi=150, dpi_save=300, format=\"pdf\", fontsize=8)"
   ]
  },
  {
   "cell_type": "code",
   "execution_count": null,
   "metadata": {},
   "outputs": [],
   "source": [
    "cols_clusters = [\"gold\",\"lightslategray\", \"lime\", \"#DAF7A6\", \"darkkhaki\", \"red\", \"#F16913\",  \"#4C7C5E\", \"#2171B5\",\"#eaa9bd\", \"#91357d\"]"
   ]
  },
  {
   "cell_type": "code",
   "execution_count": null,
   "metadata": {},
   "outputs": [],
   "source": [
    "GO_terms = pd.read_csv(\"/home/projects/11001611/working/prabhakaran/RNASeq/17Apr_rev/Macaque/GO_terms_selected_28Apr.csv\")"
   ]
  },
  {
   "cell_type": "code",
   "execution_count": null,
   "metadata": {},
   "outputs": [],
   "source": [
    "GO_terms['CellType'] = GO_terms['CellType'].replace({\n",
    "    'Sperm': 'Immature Sperm'\n",
    "})"
   ]
  },
  {
   "cell_type": "code",
   "execution_count": null,
   "metadata": {},
   "outputs": [],
   "source": [
    "GO_terms['-log10(p-value)'] = np.log10(GO_terms.p_value)*-1"
   ]
  },
  {
   "cell_type": "code",
   "execution_count": null,
   "metadata": {},
   "outputs": [],
   "source": [
    "plt.rcParams['xtick.labelsize']=6\n",
    "plt.rcParams['ytick.labelsize']=6\n",
    "plt.rcParams['axes.grid']=False\n",
    "\n",
    "go = sns.FacetGrid(GO_terms, col=\"CellType\", sharex=False, sharey=False,hue=\"CellType\", col_wrap=4, aspect=2.2, size=1.1, palette=cols_clusters)#For 3 = aspect=2.2, size=0.75, for 4 = aspect=2.8, size=0.9\n",
    "go.map(plt.barh, \"name\", \"-log10(p-value)\", height=0.6).set_titles(\"\").set_axis_labels(\"\",\"\").set_titles(\"{col_name}\")#.set_tickparams(axis=\"both\",  which=\"both\", pad=0.01)#.set_xticklabels(length=0.1)#.set_titles(\"{col_name}\").set_axis_labels(\"-log10(P)\",\"\")\n",
    "go.fig.subplots_adjust(wspace=3.2, hspace=0.95)"
   ]
  },
  {
   "cell_type": "code",
   "execution_count": null,
   "metadata": {},
   "outputs": [],
   "source": [
    "mf_sce_gs.X = mf_sce_gs.layers[\"logcounts\"]"
   ]
  },
  {
   "cell_type": "code",
   "execution_count": null,
   "metadata": {},
   "outputs": [],
   "source": [
    "# Load gene annnotation file\n",
    "allgenes = pd.read_csv(\"/home/projects/11001611/working/prabhakaran/RNASeq/gene_annotation.txt\", index_col=0)"
   ]
  },
  {
   "cell_type": "code",
   "execution_count": null,
   "metadata": {},
   "outputs": [],
   "source": [
    "# Retrive chromosomes X, Y genes\n",
    "chrX_genes = allgenes[\"Chromosome\"]==\"X\"\n",
    "chrY_genes = allgenes[\"Chromosome\"]==\"Y\""
   ]
  },
  {
   "cell_type": "code",
   "execution_count": null,
   "metadata": {},
   "outputs": [],
   "source": [
    "# Retrieve the X and Y genes detected in the dataset\n",
    "Xgenes = set(allgenes[chrX_genes].index.tolist()).intersection(mf_sce_gs.var_names.tolist())\n",
    "Ygenes = set(allgenes[chrY_genes].index.tolist()).intersection(mf_sce_gs.var_names.tolist())"
   ]
  },
  {
   "cell_type": "code",
   "execution_count": null,
   "metadata": {},
   "outputs": [],
   "source": [
    "mf_sce_gs.obs[\"ChrX percent\"] = (np.sum(\n",
    "    mf_sce_gs[:, list(Xgenes)].X, axis=1).A1 / np.sum(mf_sce_gs.X, axis=1).A1)*100\n",
    "\n",
    "mf_sce_gs.obs[\"ChrY percent\"] = (np.sum(\n",
    "    mf_sce_gs[:, list(Ygenes)].X, axis=1).A1 / np.sum(mf_sce_gs.X, axis=1).A1)*100"
   ]
  },
  {
   "cell_type": "code",
   "execution_count": null,
   "metadata": {},
   "outputs": [],
   "source": [
    "# Make a dataframe using the selected columns\n",
    "dist_data = mf_sce_gs.obs['broad_clusters'].to_frame().join(mf_sce_gs.obs['detected']).join(mf_sce_gs.obs['sum']).join(mf_sce_gs.obs['subsets_mt_percent']).join(mf_sce_gs.obs['ChrX percent']).join(mf_sce_gs.obs['ChrY percent'])\n",
    "dist_data.columns = ['Clusters', 'No. of genes detected', 'UMI Count', '% Mito', '% ChrX', '% ChrY']\n",
    "# Melt the data to long format\n",
    "dist_data_melted = dist_data.melt(id_vars='Clusters', var_name='key', value_name='value')"
   ]
  },
  {
   "cell_type": "code",
   "execution_count": null,
   "metadata": {},
   "outputs": [],
   "source": [
    "sc.settings.set_figure_params(dpi=100, dpi_save=300, format=\"pdf\")\n",
    "# Set context to `\"paper\"`\n",
    "sns.set_context(\"paper\", font_scale=2, rc={\"font.size\":8,\"axes.labelsize\":8,\"axes.titlesize\":12})\n",
    "plt.rcParams[\"axes.linewidth\"] = 0.5"
   ]
  },
  {
   "cell_type": "code",
   "execution_count": null,
   "metadata": {},
   "outputs": [],
   "source": [
    "plt.rcParams[\"figure.titlesize\"]=12\n",
    "g = sns.FacetGrid(dist_data_melted, col=\"key\", height=5, sharex=False, hue=\"Clusters\", aspect=.8, palette=cols_clusters) \n",
    "g.map(sns.violinplot, \"value\", \"Clusters\", label='xxlarge', linewidth=0.5).set_titles(\"{col_name}\", size=18).set_axis_labels(\"\",\"\")\n",
    "g.fig.tight_layout()"
   ]
  },
  {
   "cell_type": "code",
   "execution_count": null,
   "metadata": {},
   "outputs": [],
   "source": [
    "sc.settings.set_figure_params(dpi=100, dpi_save=300, format=\"pdf\", frameon=True)\n",
    "# Set context to `\"paper\"`\n",
    "sns.set_context(\"paper\", font_scale=1, rc={\"font.size\":8,\"axes.labelsize\":8,\"axes.titlesize\":12})\n",
    "plt.rcParams[\"axes.linewidth\"] = 1"
   ]
  },
  {
   "cell_type": "markdown",
   "metadata": {},
   "source": [
    "## *Focused analysis of macaque spermatogonial cells*"
   ]
  },
  {
   "cell_type": "code",
   "execution_count": null,
   "metadata": {},
   "outputs": [],
   "source": [
    "%%R -o mf_sce_germSPG\n",
    "## Germ SPG\n",
    "mf_sce_germSPG <- mf_sce_gs[,mf_sce_gs$mf_leiden_clusters %in% c('43', '9', '4', '28', '2', '34', '35', '27')]\n",
    "mf_sce_germSPG <- mf_sce_germSPG[Matrix::rowSums(counts(mf_sce_germSPG)) > 0,]\n",
    "mf_sce_germSPG$mf_leiden_clusters <- as.character(mf_sce_germSPG$mf_leiden_clusters)\n",
    "mf_sce_germSPG$mf_leiden_clusters <- factor(mf_sce_germSPG$mf_leiden_clusters)\n",
    "\n",
    "#Identify HVGs based on sample\n",
    "set.seed(55063)\n",
    "mod_mf_batch_germ_SPG <- modelGeneVar(mf_sce_germSPG, block=colData(mf_sce_germSPG)$Sample)\n",
    "hvgs_mf_batch_germ_SPG <- getTopHVGs(mod_mf_batch_germ_SPG, prop=0.1)\n",
    "\n",
    "set.seed(55063)\n",
    "mf_sce_germ_SPG_corrected <- fastMNN(mf_sce_germSPG, subset.row=hvgs_mf_batch_germ_SPG, batch=mf_sce_germSPG$Sample)\n",
    "\n",
    "set.seed(55063)\n",
    "mf_sce_germ_SPG_corrected <- runTSNE(mf_sce_germ_SPG_corrected, dimred=\"corrected\",\n",
    "                                    verbose = F,\n",
    "                                    num_threads = 24)\n",
    "reducedDim(mf_sce_germSPG, \"mnn\") <- reducedDim(mf_sce_germ_SPG_corrected, \"corrected\")\n",
    "reducedDim(mf_sce_germSPG, \"TSNE\") <- reducedDim(mf_sce_germ_SPG_corrected, \"TSNE\")\n",
    "reducedDim(mf_sce_germSPG, \"PCA\") <- reducedDim(mf_sce_germ_SPG_corrected, \"mnn\")\n",
    "mf_sce_germSPG$mf_leiden_clusters <- as.character(mf_sce_germSPG$mf_leiden_clusters)"
   ]
  },
  {
   "cell_type": "code",
   "execution_count": null,
   "metadata": {},
   "outputs": [],
   "source": [
    "mf_sce_germSPG.var_names_make_unique()"
   ]
  },
  {
   "cell_type": "code",
   "execution_count": null,
   "metadata": {},
   "outputs": [],
   "source": [
    "mf_sce_germSPG.obs['Library'] = mf_sce_germSPG.obs['Sample']\n",
    "\n",
    "mf_sce_germSPG.obs['batch'] = mf_sce_germSPG.obs['Library'].replace({\n",
    "    \"MUX8555\":\"-0\",\n",
    "    \"MUX8990\": \"-1\",\n",
    "    \"MUX8991\": \"-2\",\n",
    "    \"MUX9780\": \"-3\",\n",
    "    \"SSEA4\": \"-4\"\n",
    "})\n",
    "\n",
    "mf_sce_germSPG.obs['Sample'] = mf_sce_germSPG.obs['Library'].replace({\n",
    "    \"MUX8555\":\"Adult1\",\n",
    "    \"MUX8990\": \"Infant\",\n",
    "    \"MUX8991\": \"Juvenile\",\n",
    "    \"MUX9780\": \"Adult2\",\n",
    "    \"SSEA4\": \"Adult2_SSEA4+\"\n",
    "})\n",
    "mf_sce_germSPG.obs.index = mf_sce_germSPG.obs['Barcode']+mf_sce_germSPG.obs['batch']"
   ]
  },
  {
   "cell_type": "code",
   "execution_count": null,
   "metadata": {},
   "outputs": [],
   "source": [
    "mf_sce_germSPG.obs['Sample'].value_counts()"
   ]
  },
  {
   "cell_type": "code",
   "execution_count": null,
   "metadata": {},
   "outputs": [],
   "source": [
    "mf_sce_germSPG.obs['sum'].describe() #Descriptive statistics of UMI counts across spermatogonia cells"
   ]
  },
  {
   "cell_type": "code",
   "execution_count": null,
   "metadata": {},
   "outputs": [],
   "source": [
    "mf_sce_germSPG.obs['detected'].describe() #Descriptive statistics of genes detected across spermatogonia cells"
   ]
  },
  {
   "cell_type": "code",
   "execution_count": null,
   "metadata": {},
   "outputs": [],
   "source": [
    "mf_sce_germSPG.obsm[\"X_pca\"] = mf_sce_germSPG.obsm[\"mnn\"]"
   ]
  },
  {
   "cell_type": "code",
   "execution_count": null,
   "metadata": {},
   "outputs": [],
   "source": [
    "mf_sce_germSPG.X = mf_sce_germSPG.layers[\"logcounts\"]"
   ]
  },
  {
   "cell_type": "code",
   "execution_count": null,
   "metadata": {},
   "outputs": [],
   "source": [
    "# Cell cycle scoring\n",
    "sc.tl.score_genes_cell_cycle(mf_sce_germSPG, \n",
    "                             s_genes=[\"MCM5\", \"PCNA\", \"TYMS\", \"FEN1\", \"MCM2\", \"MCM4\", \"RRM1\", \"UNG\", \"GINS2\",\n",
    "                                      \"MCM6\", \"CDCA7\", \"DTL\", \"ENSMFAG00000036445\", \"UHRF1\", \"CENPU\", \"HELLS\",\n",
    "                                      \"RFC2\", \"RPA2\", \"NASP\", \"RAD51AP1\", \"GMNN\", \"WDR76\",\"SLBP\", \"CCNE2\", \"UBR7\",\n",
    "                                      \"POLD3\", \"MSH2\", \"ATAD2\", \"RAD51\", \"RRM2\", \"CDC45\", \"CDC6\", \"EXO1\", \"TIPIN\", \n",
    "                                      \"DSCC1\", \"BLM\", \"CASP8AP2\", \"USP1\", \"CLSPN\", \"POLA1\", \"CHAF1B\", \"BRIP1\", \"E2F8\"],\n",
    "                            g2m_genes=[\"HMGB2\", \"CDK1\", \"ENSMFAG00000039976\", \"UBE2C\", \"BIRC5\", \"TPX2\", \"TOP2A\", \"NDC80\",\n",
    "                                       \"ENSMFAG00000043640\", \"NUF2\", \"ENSMFAG00000002089\", \"MKI67\", \"TMPO\", \"CENPF\", \"TACC3\",\n",
    "                                       \"PIMREG\", \"SMC4\", \"CCNB2\", \"CKAP2L\", \"CKAP2\", \"AURKB\", \"BUB1\", \"KIF11\", \"ANP32E\", \"TUBB4B\",\n",
    "                                       \"GTSE1\", \"KIF20B\", \"HJURP\", \"CDCA3\", \"JPT1\", \"CDC20\", \"TTK\", \"CDC25C\", \"KIF2C\", \"RANGAP1\", \n",
    "                                       \"NCAPD2\", \"DLGAP5\", \"CDCA2\", \"CDCA8\", \"ECT2\", \"ENSMFAG00000041684\", \"HMMR\", \"AURKA\", \"PSRC1\",\n",
    "                                       \"ANLN\", \"LBR\", \"CKAP5\", \"CENPE\", \"CTCF\", \"NEK2\", \"G2E3\", \"GAS2L3\", \"CBX5\", \"CENPA\"])"
   ]
  },
  {
   "cell_type": "code",
   "execution_count": null,
   "metadata": {},
   "outputs": [],
   "source": [
    "mf_sce_germSPG.obs[\"Sample\"] = mf_sce_germSPG.obs[\"Sample\"].astype(\"category\").cat.reorder_categories([\"Infant\", \"Juvenile\", \"Adult1\", \"Adult2\", \"Adult2_SSEA4+\"],ordered=True)"
   ]
  },
  {
   "cell_type": "code",
   "execution_count": null,
   "metadata": {},
   "outputs": [],
   "source": [
    "sc.pl.tsne(mf_sce_germSPG, color=[ \"Sample\"], palette=[\"royalblue\", \"forestgreen\", \"red\", \"darkorange\", \"skyblue\"],\n",
    "           size=40, edgecolor=\"black\", linewidths=0.05, ncols=1, legend_fontsize=10, cmap=\"viridis\", legend_fontoutline=1)"
   ]
  },
  {
   "cell_type": "code",
   "execution_count": null,
   "metadata": {},
   "outputs": [],
   "source": [
    "for s in [\"Infant\", \"Juvenile\", \"Adult1\", \"Adult2\", \"Adult2_SSEA4+\"]:\n",
    "    sc.pl.tsne(mf_sce_germSPG, color=[ \"Sample\"], palette=[\"royalblue\", \"forestgreen\", \"red\", \"darkorange\", \"skyblue\"], groups=s,\n",
    "           size=40, edgecolor=\"black\", linewidths=0.05, ncols=1, legend_fontsize=10, cmap=\"viridis\", legend_fontoutline=1,  title=s)"
   ]
  },
  {
   "cell_type": "code",
   "execution_count": null,
   "metadata": {},
   "outputs": [],
   "source": [
    "sc.pl.tsne(mf_sce_germSPG, color=[ \"S_score\", \"G2M_score\"], \n",
    "           size=40, edgecolor=\"black\", linewidths=0.05, ncols=2, legend_fontsize=10, cmap=\"viridis\", legend_fontoutline=1)"
   ]
  },
  {
   "cell_type": "code",
   "execution_count": null,
   "metadata": {},
   "outputs": [],
   "source": [
    "sc.pl.tsne(mf_sce_germSPG, color=[\"phase\"], palette=[\"black\", \"lightgray\", \"red\"],\n",
    "           size=40, edgecolor=\"black\", linewidths=0.125, ncols=2, legend_fontsize=10, cmap=heatcolors, legend_fontoutline=1, title=\"\")"
   ]
  },
  {
   "cell_type": "code",
   "execution_count": null,
   "metadata": {},
   "outputs": [],
   "source": [
    "sc.pl.tsne(mf_sce_germSPG, color=[\"ENSMFAG00000046145\",  \"ENSMFAG00000037727\", \"PIWIL4\", \"ID4\", \"SOHLH1\", \"EGR4\", \"FGFR3\", \"NANOS3\",\n",
    "                                  \"UCHL1\", \"L1TD1\", \"ASB9\", \"DMRT1\",\"DMRTB1\", \"GCNA\", \"STRA8\",\"KIT\",\"REC8\",\"SYCP3\", \"PRDM9\", \"SPO11\"],\n",
    "          legend_loc=\"on data\", legend_fontsize=6, size=40, edgecolor=\"black\", linewidths=0.1,wspace=0.1, hspace=0.2, cmap=heatcolors,\n",
    "           ncols=4, layer=\"logcounts\")"
   ]
  },
  {
   "cell_type": "code",
   "execution_count": null,
   "metadata": {},
   "outputs": [],
   "source": [
    "sc.pp.neighbors(mf_sce_germSPG, n_neighbors = 10)"
   ]
  },
  {
   "cell_type": "code",
   "execution_count": null,
   "metadata": {},
   "outputs": [],
   "source": [
    "sc.tl.leiden(mf_sce_germSPG, resolution = 0.5) # Perform clustering"
   ]
  },
  {
   "cell_type": "code",
   "execution_count": null,
   "metadata": {},
   "outputs": [],
   "source": [
    "sc.pl.tsne(mf_sce_germSPG, color=[\"leiden\"],legend_loc=\"on data\", size=40, edgecolor=\"black\", linewidths=0.1, ncols=3, legend_fontsize=8, alpha=0.6, legend_fontoutline=1)"
   ]
  },
  {
   "cell_type": "code",
   "execution_count": null,
   "metadata": {},
   "outputs": [],
   "source": [
    "spg_conditions = [\n",
    "    (mf_sce_germSPG.obs[\"leiden\"].isin([\"0\"])),#Undiff1\n",
    "    (mf_sce_germSPG.obs[\"leiden\"].isin([\"2\"])),#Undiff2\n",
    "    (mf_sce_germSPG.obs[\"leiden\"].isin([\"5\"])),#Undiff3\n",
    "    (mf_sce_germSPG.obs[\"leiden\"].isin([\"3\"])),#Ediff1\n",
    "    (mf_sce_germSPG.obs[\"leiden\"].isin([\"1\"])),#Ediff2\n",
    "    (mf_sce_germSPG.obs[\"leiden\"].isin([\"4\"])),#Ediff3\n",
    "    (mf_sce_germSPG.obs[\"leiden\"].isin([\"8\"])),#Ediff4\n",
    "    (mf_sce_germSPG.obs[\"leiden\"].isin([\"7\"])),#Mid diff\n",
    "    (mf_sce_germSPG.obs[\"leiden\"].isin([\"6\"])),#Late diff\n",
    "    (mf_sce_germSPG.obs[\"leiden\"].isin([\"10\"])),#pre-Lep\n",
    "    (mf_sce_germSPG.obs[\"leiden\"].isin([\"9\"]))]#Lep\n",
    "spg_groups = [\"Undiff1\", \"Undiff2\", \"Undiff3\", \"E-diff1\", \"E-diff2\", \"E-diff3\", \"E-diff4\", \"Mid diff\", \"Late diff\", \"pre-Lep\",  \"Lep\"]"
   ]
  },
  {
   "cell_type": "code",
   "execution_count": null,
   "metadata": {},
   "outputs": [],
   "source": [
    "spg_clusters = np.select(spg_conditions, spg_groups, default=\"Germ\")"
   ]
  },
  {
   "cell_type": "code",
   "execution_count": null,
   "metadata": {},
   "outputs": [],
   "source": [
    "mf_sce_germSPG.obs[\"Annotated\"] = spg_clusters"
   ]
  },
  {
   "cell_type": "code",
   "execution_count": null,
   "metadata": {},
   "outputs": [],
   "source": [
    "mf_sce_germSPG.obs[\"Annotated\"] = mf_sce_germSPG.obs[\"Annotated\"].astype(\"category\").cat.reorder_categories([\"Undiff1\", \"Undiff2\",\"Undiff3\",\n",
    "                                                                                                             \"E-diff1\", \"E-diff2\", \"E-diff3\", \"E-diff4\",\n",
    "                                                                                                             \"Mid diff\", \"Late diff\", \"pre-Lep\",  \"Lep\"],ordered=True)"
   ]
  },
  {
   "cell_type": "code",
   "execution_count": null,
   "metadata": {},
   "outputs": [],
   "source": [
    "spg_colors = [\"#FFF5EB\", \"#FEE6CE\", \"#FDD0A2\", \"#FDAE6B\", \"#FD8D3C\", \"#F16913\",\n",
    "              \"#D94801\", \"#A63603\", \"#7F2704\",\"#E4EDE4\", \"#BED1C2\"]"
   ]
  },
  {
   "cell_type": "code",
   "execution_count": null,
   "metadata": {},
   "outputs": [],
   "source": [
    "sc.pl.tsne(mf_sce_germSPG, color=[\"Annotated\"],palette=spg_colors,size=40,  edgecolor=\"black\",legend_loc=\"on data\", legend_fontoutline=1,\n",
    "           linewidths=0.15, ncols=3, legend_fontsize=10,  title=\"\")"
   ]
  },
  {
   "cell_type": "code",
   "execution_count": null,
   "metadata": {},
   "outputs": [],
   "source": [
    "pd.crosstab(mf_sce_germSPG.obs['Annotated'], mf_sce_germSPG.obs['phase'])"
   ]
  },
  {
   "cell_type": "code",
   "execution_count": null,
   "metadata": {},
   "outputs": [],
   "source": [
    "pd.crosstab(mf_sce_germSPG.obs['Annotated'], mf_sce_germSPG.obs['Sample'])"
   ]
  },
  {
   "cell_type": "code",
   "execution_count": null,
   "metadata": {},
   "outputs": [],
   "source": [
    "plt.rcParams['figure.facecolor'] = 'white'\n",
    "plt.rcParams['axes.facecolor'] = 'grey'"
   ]
  },
  {
   "cell_type": "code",
   "execution_count": null,
   "metadata": {},
   "outputs": [],
   "source": [
    "sc.pl.tracksplot(mf_sce_germSPG, var_names=[\"ENSMFAG00000046145\",  \"ENSMFAG00000037727\", \"PIWIL4\", \"ID4\", \"SOHLH1\", \"EGR4\", \"FGFR3\", \"NANOS3\", \"UCHL1\", \"L1TD1\", \"ASB9\",\n",
    "                                  \"DMRT1\",\"DMRTB1\", \"GCNA\", \"STRA8\",\"KIT\",\"REC8\",\"SYCP3\", \"PRDM9\", \"SPO11\"], groupby=\"Annotated\", layer=\"logcounts\");"
   ]
  },
  {
   "cell_type": "code",
   "execution_count": null,
   "metadata": {},
   "outputs": [],
   "source": [
    "plt.rcdefaults()\n",
    "sc.settings.set_figure_params(dpi=100, dpi_save=300, format=\"pdf\")#, vector_friendly=False)\n",
    "# Set context to `\"paper\"`\n",
    "sns.set_context(\"paper\", font_scale=1, rc={\"font.size\":8,\"axes.labelsize\":8,\"axes.titlesize\":14})\n",
    "plt.rcParams.update({\"font.family\":\"Reem Kufi\"})"
   ]
  },
  {
   "cell_type": "code",
   "execution_count": null,
   "metadata": {},
   "outputs": [],
   "source": [
    "sc.tl.paga(mf_sce_germSPG, groups=\"Annotated\")"
   ]
  },
  {
   "cell_type": "code",
   "execution_count": null,
   "metadata": {},
   "outputs": [],
   "source": [
    "plt.rcParams['figure.figsize']=5,5\n",
    "sc.pl.paga(mf_sce_germSPG, color=\"Annotated\", threshold = 0.028, fontsize=10, fontoutline=1, node_size_power=1.25, node_size_scale=2.5, frameon=False)"
   ]
  },
  {
   "cell_type": "code",
   "execution_count": null,
   "metadata": {},
   "outputs": [],
   "source": [
    "sc.tl.rank_genes_groups(mf_sce_germSPG, \"Annotated\", n_genes=6000, method=\"wilcoxon\", layer=\"logcounts\", use_raw=False, rankby_abs=True)"
   ]
  },
  {
   "cell_type": "code",
   "execution_count": null,
   "metadata": {},
   "outputs": [],
   "source": [
    "spgAnnolist = {}\n",
    "for i in mf_sce_germSPG.obs[\"Annotated\"].cat.categories:\n",
    "    genes = sc.get.rank_genes_groups_df(mf_sce_germSPG, group=i,pval_cutoff=0.05, log2fc_min=1.25, key=\"rank_genes_groups\").sort_values(by=\"scores\", ascending=False).dropna(axis=0)[\"names\"].to_list()\n",
    "    spgAnnolist[i] = genes"
   ]
  },
  {
   "cell_type": "code",
   "execution_count": null,
   "metadata": {},
   "outputs": [],
   "source": [
    "pd.DataFrame.from_dict(spgAnnolist, orient=\"index\").transpose().head(10)"
   ]
  },
  {
   "cell_type": "code",
   "execution_count": null,
   "metadata": {},
   "outputs": [],
   "source": [
    "SPG_L1 = []\n",
    "for i in mf_sce_germSPG.obs[\"Annotated\"].cat.categories:\n",
    "    genes = sc.get.rank_genes_groups_df(mf_sce_germSPG, group=i,pval_cutoff=0.01, log2fc_min=1.25, key=\"rank_genes_groups\").sort_values(by=\"logfoldchanges\", ascending=False).dropna(axis=0)[\"names\"].to_list()\n",
    "    SPG_L1.extend(genes) \n",
    "len(SPG_L1)"
   ]
  },
  {
   "cell_type": "code",
   "execution_count": null,
   "metadata": {},
   "outputs": [],
   "source": [
    "SPG_unique_genes = list(unique_everseen(SPG_L1))\n",
    "len(SPG_unique_genes)"
   ]
  },
  {
   "cell_type": "code",
   "execution_count": null,
   "metadata": {},
   "outputs": [],
   "source": [
    "mat_spg = sc.pl.matrixplot(mf_sce_germSPG, SPG_L1, groupby=\"Annotated\", figsize=(4,4),standard_scale=\"var\", linewidth=.0001,swap_axes=True,\n",
    "                 cmap=heatcolors_wr, dendrogram=False, layer=\"logcounts\", show_gene_labels=False)"
   ]
  },
  {
   "cell_type": "code",
   "execution_count": null,
   "metadata": {},
   "outputs": [],
   "source": [
    "plt.rcParams['figure.figsize']=4,0.75\n",
    "sc.pl.dendrogram(mf_sce_germSPG, groupby=\"Annotated\");"
   ]
  },
  {
   "cell_type": "markdown",
   "metadata": {},
   "source": [
    "## *RNA velocity analysis of Macaque spermatogonial cells*"
   ]
  },
  {
   "cell_type": "code",
   "execution_count": null,
   "metadata": {},
   "outputs": [],
   "source": [
    "import scvelo as scv\n",
    "print(scv.__version__)"
   ]
  },
  {
   "cell_type": "code",
   "execution_count": null,
   "metadata": {},
   "outputs": [],
   "source": [
    "MUX8555_loom = scv.read(\"/home/projects/11001611/working/mahesh/RNA_SEQ_WORKFOLDER/Macaque_Spermatogenesis/MacFas1_count/velocyto/MacFas1_count.loom\", cache=True);\n",
    "MUX8555_loom.var_names_make_unique()\n",
    "MUX8990_loom = scv.read(\"/home/projects/11001611/working/mahesh/RNA_SEQ_WORKFOLDER/Macaque_Spermatogenesis/MacFas2_count/velocyto/MacFas2_count.loom\", cache=True);\n",
    "MUX8990_loom.var_names_make_unique()\n",
    "MUX8991_loom = scv.read(\"/home/projects/11001611/working/mahesh/RNA_SEQ_WORKFOLDER/Macaque_Spermatogenesis/MacFas3_count/velocyto/MacFas3_count.loom\", cache=True);\n",
    "MUX8991_loom.var_names_make_unique()\n",
    "MUX9780_loom = scv.read(\"/home/projects/11001611/working/mahesh/RNA_SEQ_WORKFOLDER/Macaque_Spermatogenesis/MacFas4_count/velocyto/MacFas4_count.loom\", cache=True);\n",
    "MUX9780_loom.var_names_make_unique()\n",
    "SSEA4_loom = scv.read(\"/home/projects/11001611/working/mahesh/RNA_SEQ_WORKFOLDER/Macaque_Spermatogenesis/MacFas4_SSEA4_count/velocyto/MacFas4_SSEA4_count.loom\", cache=True);\n",
    "SSEA4_loom.var_names_make_unique()"
   ]
  },
  {
   "cell_type": "code",
   "execution_count": null,
   "metadata": {},
   "outputs": [],
   "source": [
    "mf_velodata = MUX8555_loom.concatenate(MUX8990_loom, MUX8991_loom, MUX9780_loom, SSEA4_loom)"
   ]
  },
  {
   "cell_type": "code",
   "execution_count": null,
   "metadata": {},
   "outputs": [],
   "source": [
    "# Rename the cell ids\n",
    "batchid=[b.split(\":\")[1][16:] for b in mf_velodata.obs_names]"
   ]
  },
  {
   "cell_type": "code",
   "execution_count": null,
   "metadata": {},
   "outputs": [],
   "source": [
    "batch=np.array(batchid)\n",
    "batch[np.isin(batchid,\"x-0\")]=\"-0\"\n",
    "batch[np.isin(batchid,\"x-1\")]=\"-1\"\n",
    "batch[np.isin(batchid,\"x-2\")]=\"-2\"\n",
    "batch[np.isin(batchid,\"x-3\")]=\"-3\"\n",
    "batch[np.isin(batchid,\"x-4\")]=\"-4\""
   ]
  },
  {
   "cell_type": "code",
   "execution_count": null,
   "metadata": {},
   "outputs": [],
   "source": [
    "cellid=[c.split(\":\")[1][:16] for c in mf_velodata.obs_names]\n",
    "new_cellid=[s + \"-1\"+t for s,t in zip(cellid,batch)]"
   ]
  },
  {
   "cell_type": "code",
   "execution_count": null,
   "metadata": {},
   "outputs": [],
   "source": [
    "mf_velodata.obs_names=new_cellid"
   ]
  },
  {
   "cell_type": "code",
   "execution_count": null,
   "metadata": {},
   "outputs": [],
   "source": [
    "## Estimate RNA velocity for the Spermatogonia population"
   ]
  },
  {
   "cell_type": "code",
   "execution_count": null,
   "metadata": {},
   "outputs": [],
   "source": [
    "SPG=[s for s in mf_sce_germSPG.obs_names if s in mf_velodata.obs_names]"
   ]
  },
  {
   "cell_type": "code",
   "execution_count": null,
   "metadata": {},
   "outputs": [],
   "source": [
    "germSPG_velodata=mf_velodata[SPG].copy()"
   ]
  },
  {
   "cell_type": "code",
   "execution_count": null,
   "metadata": {},
   "outputs": [],
   "source": [
    "germSPG_velodata"
   ]
  },
  {
   "cell_type": "code",
   "execution_count": null,
   "metadata": {},
   "outputs": [],
   "source": [
    "germSPG_velodata.obsm[\"X_tsne\"] = mf_sce_germSPG.obsm[\"X_tsne\"]\n",
    "germSPG_velodata.obs[\"Annotated\"] = mf_sce_germSPG.obs[\"Annotated\"]\n",
    "germSPG_velodata.uns[\"Annotated_colors\"] = mf_sce_germSPG.uns[\"Annotated_colors\"]"
   ]
  },
  {
   "cell_type": "code",
   "execution_count": null,
   "metadata": {},
   "outputs": [],
   "source": [
    "scv.pp.filter_and_normalize(germSPG_velodata, min_shared_counts=20, n_top_genes=4000)\n",
    "scv.pp.moments(germSPG_velodata, n_pcs=30, n_neighbors=30)"
   ]
  },
  {
   "cell_type": "code",
   "execution_count": null,
   "metadata": {},
   "outputs": [],
   "source": [
    "scv.tl.velocity(germSPG_velodata,mode=\"stochastic\", vkey=\"stochastic_velocity\")\n",
    "scv.tl.velocity_graph(germSPG_velodata, vkey=\"stochastic_velocity\")\n",
    "scv.tl.velocity_embedding(germSPG_velodata, basis=\"tsne\", vkey=\"stochastic_velocity\")"
   ]
  },
  {
   "cell_type": "code",
   "execution_count": null,
   "metadata": {},
   "outputs": [],
   "source": [
    "scv.settings.set_figure_params(figsize=(6,6), dpi=100)\n",
    "scv.pl.velocity_embedding_stream(germSPG_velodata, basis=\"tsne\", color=[\"Annotated\"], \n",
    "                                 vkey=\"stochastic_velocity\", title=\"\",min_mass=0,\n",
    "                                 legend_fontsize=14)"
   ]
  },
  {
   "cell_type": "code",
   "execution_count": null,
   "metadata": {},
   "outputs": [],
   "source": [
    "scv.pl.velocity_embedding(germSPG_velodata, basis=\"tsne\", arrow_length=5, arrow_size=5, dpi=100, color=\"Annotated\",\n",
    "                          vkey=\"stochastic_velocity\", title=\"\",legend_loc=\"on data\", legend_fontsize=10)"
   ]
  },
  {
   "cell_type": "code",
   "execution_count": null,
   "metadata": {},
   "outputs": [],
   "source": [
    "scv.tl.recover_dynamics(germSPG_velodata)"
   ]
  },
  {
   "cell_type": "code",
   "execution_count": null,
   "metadata": {},
   "outputs": [],
   "source": [
    "scv.tl.latent_time(germSPG_velodata)"
   ]
  },
  {
   "cell_type": "code",
   "execution_count": null,
   "metadata": {},
   "outputs": [],
   "source": [
    "mf_sce_germSPG.obs[\"latent_time\"] = germSPG_velodata.obs[\"latent_time\"]\n",
    "mf_sce_germSPG.obs[\"velocity_pseudotime\"] = germSPG_velodata.obs[\"velocity_pseudotime\"]\n",
    "mf_sce_germSPG.uns[\"velocity_graph\"] = germSPG_velodata.uns[\"stochastic_velocity_graph\"]"
   ]
  },
  {
   "cell_type": "code",
   "execution_count": null,
   "metadata": {},
   "outputs": [],
   "source": [
    "sc.settings.set_figure_params(dpi=100, dpi_save=300, format=\"pdf\")\n",
    "# Set context to `\"paper\"`\n",
    "sns.set_context(\"paper\", font_scale=1, rc={\"font.size\":8,\"axes.labelsize\":8,\"axes.titlesize\":14})"
   ]
  },
  {
   "cell_type": "code",
   "execution_count": null,
   "metadata": {},
   "outputs": [],
   "source": [
    "sc.pl.tsne(mf_sce_germSPG, color=[\"latent_time\"], legend_loc=\"on data\", ncols=1, legend_fontsize=6, size=40, edgecolor=\"black\",\n",
    "           cmap=\"viridis\", linewidths=0.1)"
   ]
  },
  {
   "cell_type": "markdown",
   "metadata": {},
   "source": [
    "## *Analysis of macaque germ cells (Spermatogonia to Sperm)*"
   ]
  },
  {
   "cell_type": "code",
   "execution_count": null,
   "metadata": {},
   "outputs": [],
   "source": [
    "%%R -o mf_sce_germ\n",
    "## GERM\n",
    "mf_sce_germ <- mf_sce[,mf_sce$broadcluster==\"Germ\"]\n",
    "mf_sce_germ <- mf_sce_germ[Matrix::rowSums(counts(mf_sce_germ)) > 0, ]\n",
    "mf_sce_germ$mf_leiden_clusters <- factor(mf_sce_germ$mf_leiden_clusters)\n",
    "\n",
    "# Identify HVGs based on sample\n",
    "set.seed(55063)\n",
    "mod_mf_batch_germ <- modelGeneVar(mf_sce_germ, block=colData(mf_sce_germ)$Sample)\n",
    "hvgs_mf_batch_germ <- getTopHVGs(mod_mf_batch_germ, prop=0.1)\n",
    "print(paste(\"HVGs used:\", length(hvgs_mf_batch_germ)))\n",
    "\n",
    "set.seed(55063)\n",
    "mf_sce_germ_corrected <- fastMNN(mf_sce_germ, subset.row=hvgs_mf_batch_germ, batch=mf_sce_germ$Sample)\n",
    "reducedDim(mf_sce_germ, \"mnn\") <- reducedDim(mf_sce_germ_corrected, \"corrected\")\n",
    "mf_sce_germ$mf_leiden_clusters <- as.character(mf_sce_germ$mf_leiden_clusters)"
   ]
  },
  {
   "cell_type": "code",
   "execution_count": null,
   "metadata": {},
   "outputs": [],
   "source": [
    "mf_sce_germ.var_names_make_unique()"
   ]
  },
  {
   "cell_type": "code",
   "execution_count": null,
   "metadata": {},
   "outputs": [],
   "source": [
    "mf_sce_germ.obs['Library'] = mf_sce_germ.obs['Sample']\n",
    "\n",
    "mf_sce_germ.obs['batch'] = mf_sce_germ.obs['Library'].replace({\n",
    "    \"MUX8555\":\"-0\",\n",
    "    \"MUX8990\": \"-1\",\n",
    "    \"MUX8991\": \"-2\",\n",
    "    \"MUX9780\": \"-3\",\n",
    "    \"SSEA4\": \"-4\"\n",
    "})\n",
    "\n",
    "mf_sce_germ.obs['Sample'] = mf_sce_germ.obs['Library'].replace({\n",
    "    \"MUX8555\":\"Adult1\",\n",
    "    \"MUX8990\": \"Infant\",\n",
    "    \"MUX8991\": \"Juvenile\",\n",
    "    \"MUX9780\": \"Adult2\",\n",
    "    \"SSEA4\": \"Adult2_SSEA4+\"\n",
    "})\n",
    "mf_sce_germ.obs.index = mf_sce_germ.obs['Barcode']+mf_sce_germ.obs['batch']"
   ]
  },
  {
   "cell_type": "code",
   "execution_count": null,
   "metadata": {},
   "outputs": [],
   "source": [
    "mf_sce_germ.obs['Sample'].value_counts()"
   ]
  },
  {
   "cell_type": "code",
   "execution_count": null,
   "metadata": {},
   "outputs": [],
   "source": [
    "mf_sce_germ.obs['sum'].describe() # UMI summary statistics"
   ]
  },
  {
   "cell_type": "code",
   "execution_count": null,
   "metadata": {},
   "outputs": [],
   "source": [
    "mf_sce_germ.obs['detected'].describe() # genes detected - summary statistics"
   ]
  },
  {
   "cell_type": "code",
   "execution_count": null,
   "metadata": {},
   "outputs": [],
   "source": [
    "mf_sce_germ.obs['Annotated'] = mf_sce_germ.obs['mf_leiden_clusters']\n",
    "\n",
    "mf_sce_germ.obs['Annotated'] = mf_sce_germ.obs['Annotated'].astype(str)\n",
    "\n",
    "for idx, x in mf_sce_germSPG.obs['Annotated'].iteritems():\n",
    "    mf_sce_germ.obs.at[idx, 'Annotated'] = x "
   ]
  },
  {
   "cell_type": "code",
   "execution_count": null,
   "metadata": {},
   "outputs": [],
   "source": [
    "mf_sce_germ.obsm['X_tsne'] = mf_sce_germ.obsm['mnnTSNE']"
   ]
  },
  {
   "cell_type": "code",
   "execution_count": null,
   "metadata": {},
   "outputs": [],
   "source": [
    "mf_sce_germ.obsm['X_pca'] = mf_sce_germ.obsm['mnn']"
   ]
  },
  {
   "cell_type": "code",
   "execution_count": null,
   "metadata": {},
   "outputs": [],
   "source": [
    "sc.pl.tsne(mf_sce_germ, color=[\"Annotated\"], size=8, legend_loc=\"on data\", edgecolor=\"black\",\n",
    "           linewidths=0.1, ncols=3, legend_fontsize=8, alpha=0.6, legend_fontoutline=1)"
   ]
  },
  {
   "cell_type": "code",
   "execution_count": null,
   "metadata": {},
   "outputs": [],
   "source": [
    "mf_sce_germ.obs[\"Annotated\"] = mf_sce_germ.obs[\"Annotated\"].replace({\n",
    "    \"36\":\"Lep\",\n",
    "    \"33\": \"Zyg\",\n",
    "    \"17\": \"Pach1\",\n",
    "    \"8\": \"Pach2\",\n",
    "    \"16\": \"Pach3\",\n",
    "    \"25\": \"Pach4\",\n",
    "    \"1\": \"Pach5\",\n",
    "    \"24\": \"Pach6\",\n",
    "    \"15\": \"Pach7\",\n",
    "    \"21\": \"Pach8\",\n",
    "    \"10\": \"Pach9\",\n",
    "    \"11\": \"Pach10\",\n",
    "    \"26\": \"Dip & Sec. Spcs\",\n",
    "    \"13\": \"RS1\",\n",
    "    \"12\": \"RS2\",\n",
    "    \"22\": \"RS3\",\n",
    "    \"20\": \"RS4\",\n",
    "    \"23\": \"RS5\",\n",
    "    \"32\": \"RS6\",\n",
    "    \"29\": \"RS7\",\n",
    "    \"38\": \"ES1\",\n",
    "    \"14\": \"ES2\",\n",
    "    \"18\": \"ES3\",\n",
    "    \"7\": \"ES4\",\n",
    "    \"30\": \"ES5\",\n",
    "    \"6\": \"ES6\",\n",
    "    \"19\": \"Imm. Sperm\"\n",
    "})"
   ]
  },
  {
   "cell_type": "code",
   "execution_count": null,
   "metadata": {},
   "outputs": [],
   "source": [
    "mf_sce_germ.obs[\"Annotated\"] = mf_sce_germ.obs[\"Annotated\"].astype(\"category\").cat.reorder_categories([\"Undiff1\", \"Undiff2\", \"Undiff3\",\n",
    "                                                                                                       \"E-diff1\", \"E-diff2\",\"E-diff3\", \"E-diff4\", \"Mid diff\", \"Late diff\",\n",
    "                                                                                                       \"pre-Lep\",  \"Lep\", \"Zyg\",\n",
    "                                                                                                       \"Pach1\",\"Pach2\",\"Pach3\",\"Pach4\",\"Pach5\",\"Pach6\",\"Pach7\",\"Pach8\",\"Pach9\", \"Pach10\", \"Dip & Sec. Spcs\",\n",
    "                                                                                                       \"RS1\",\"RS2\",\"RS3\",\"RS4\",\"RS5\",\"RS6\",\"RS7\",\n",
    "                                                                                                       \"ES1\",\"ES2\",\"ES3\",\"ES4\",\"ES5\",\"ES6\",\"Imm. Sperm\"],ordered=True)"
   ]
  },
  {
   "cell_type": "code",
   "execution_count": null,
   "metadata": {},
   "outputs": [],
   "source": [
    "bc_cols = [\"#FFF5EB\", \"#FEE6CE\", \"#FDD0A2\", \"#FDAE6B\", \"#FD8D3C\", \"#F16913\", \"#D94801\", \"#A63603\", \"#7F2704\",\n",
    "          \"#F7FCF5\", \"#E4EDE4\", \"#D1DFD3\", \"#BED1C2\", \"#ABC3B1\", \"#98B5A1\", \"#84A790\", \"#71987F\", \"#5F8A6E\", \"#4C7C5E\", \"#386E4D\", \"#25603C\", \"#12522B\", \"#00441B\",\n",
    "          \"#EFF3FF\", \"#C6DBEF\", \"#9ECAE1\", \"#6BAED6\", \"#4292C6\", \"#2171B5\", \"#084594\",\n",
    "           \"#f3cbd3\", \"#eaa9bd\", \"#dd88ac\", \"#ca699d\", \"#b14d8e\", \"#91357d\", \"#6c2167\"]"
   ]
  },
  {
   "cell_type": "code",
   "execution_count": null,
   "metadata": {},
   "outputs": [],
   "source": [
    "sc.pl.tsne(mf_sce_germ, color=[\"Annotated\"], size=10, palette=bc_cols,\n",
    "            edgecolor=\"black\", linewidths=0.1, ncols=4, legend_fontsize=10, title=\"\")"
   ]
  },
  {
   "cell_type": "code",
   "execution_count": null,
   "metadata": {},
   "outputs": [],
   "source": [
    "## Integrate all annotations on the whole data\n",
    "mf_sce_gs.obs['Annotated'] = mf_sce_gs.obs['broad_clusters']\n",
    "mf_sce_gs.obs['Annotated'] = mf_sce_gs.obs['Annotated'].astype('str')"
   ]
  },
  {
   "cell_type": "code",
   "execution_count": null,
   "metadata": {},
   "outputs": [],
   "source": [
    "for idx, x in mf_sce_germ.obs['Annotated'].iteritems():\n",
    "    mf_sce_gs.obs.at[idx, 'Annotated'] = x "
   ]
  },
  {
   "cell_type": "code",
   "execution_count": null,
   "metadata": {},
   "outputs": [],
   "source": [
    "mf_sce_germ.obs['broad_germ'] = None\n",
    "for idx, x in mf_sce_gs.obs['broad_clusters'][mf_sce_gs.obs['broadcluster'].isin(['Germ'])].iteritems():\n",
    "    mf_sce_germ.obs.at[idx, 'broad_germ'] = x "
   ]
  },
  {
   "cell_type": "code",
   "execution_count": null,
   "metadata": {},
   "outputs": [],
   "source": [
    "mf_sce_germ.obs['broad_germ'] = mf_sce_germ.obs['broad_germ'].astype(\"category\").cat.reorder_categories([\"Spermatogonia\", \"Spermatocytes\",  \"Round spermatids\", \"Elongating spermatids\",\"Immature Sperm\"], ordered=True)"
   ]
  },
  {
   "cell_type": "code",
   "execution_count": null,
   "metadata": {},
   "outputs": [],
   "source": [
    "mf_sce_gs.obs[\"Annotated\"] = mf_sce_gs.obs[\"Annotated\"].astype(\"category\").cat.reorder_categories([\"Myoid\",\"Immature Leydig\", \"Leydig\", \"Sertoli\", \"Macrophage\", \"Endothelial\", \"Undiff1\", \"Undiff2\", \"Undiff3\",\n",
    "                                                                                                       \"E-diff1\", \"E-diff2\",\"E-diff3\",\"E-diff4\", \"Mid diff\", \"Late diff\",\n",
    "                                                                                                       \"pre-Lep\",  \"Lep\", \"Zyg\",\n",
    "                                                                                                       \"Pach1\",\"Pach2\",\"Pach3\",\"Pach4\",\"Pach5\",\"Pach6\",\"Pach7\",\"Pach8\",\"Pach9\", \"Pach10\", \"Dip & Sec. Spcs\",\n",
    "                                                                                                       \"RS1\",\"RS2\",\"RS3\",\"RS4\",\"RS5\",\"RS6\",\"RS7\",\n",
    "                                                                                                       \"ES1\",\"ES2\",\"ES3\",\"ES4\",\"ES5\",\"ES6\",\"Imm. Sperm\"],ordered=True)"
   ]
  },
  {
   "cell_type": "code",
   "execution_count": null,
   "metadata": {},
   "outputs": [],
   "source": [
    "palette = [\"#FFB292\",\"gold\", \"lightslategray\", \"#936C00\",\"lime\", \"red\",\n",
    "           \"#FFF5EB\", \"#FEE6CE\", \"#FDD0A2\", \"#FDAE6B\", \"#FD8D3C\", \"#F16913\", \"#D94801\", \"#A63603\", \"#7F2704\",\n",
    "          \"#F7FCF5\", \"#E4EDE4\", \"#D1DFD3\", \"#BED1C2\", \"#ABC3B1\", \"#98B5A1\", \"#84A790\", \"#71987F\", \"#5F8A6E\", \"#4C7C5E\", \"#386E4D\", \"#25603C\", \"#12522B\", \"#00441B\",\n",
    "          \"#EFF3FF\", \"#C6DBEF\", \"#9ECAE1\", \"#6BAED6\", \"#4292C6\", \"#2171B5\", \"#084594\",\n",
    "           \"#f3cbd3\", \"#eaa9bd\", \"#dd88ac\", \"#ca699d\", \"#b14d8e\", \"#91357d\", \"#6c2167\"]"
   ]
  },
  {
   "cell_type": "code",
   "execution_count": null,
   "metadata": {},
   "outputs": [],
   "source": [
    "sc.pl.tsne(mf_sce_gs, color=[\"Annotated\"], size=10, palette=palette,\n",
    "            edgecolor=\"black\", linewidths=0.05, legend_fontsize=10, title=\"\")"
   ]
  },
  {
   "cell_type": "code",
   "execution_count": null,
   "metadata": {},
   "outputs": [],
   "source": [
    "sc.tl.rank_genes_groups(mf_sce_germ, \"Annotated\", n_genes = 6000, method = \"wilcoxon\", layer = \"logcounts\", use_raw = False)"
   ]
  },
  {
   "cell_type": "code",
   "execution_count": null,
   "metadata": {},
   "outputs": [],
   "source": [
    "germlist = {}\n",
    "for i in mf_sce_germ.obs[\"Annotated\"].cat.categories:\n",
    "    genes = sc.get.rank_genes_groups_df(mf_sce_germ, group=i,pval_cutoff=0.01, log2fc_min=1.25, \n",
    "                                        key=\"rank_genes_groups\").sort_values(by=\"logfoldchanges\", ascending=False).dropna(axis=0)[\"names\"].to_list()\n",
    "    germlist[i] = genes"
   ]
  },
  {
   "cell_type": "code",
   "execution_count": null,
   "metadata": {},
   "outputs": [],
   "source": [
    "for key, value in germlist.items():\n",
    "    #print value\n",
    "    print(key, len([item for item in value if item]))"
   ]
  },
  {
   "cell_type": "code",
   "execution_count": null,
   "metadata": {},
   "outputs": [],
   "source": [
    "germ_L1 = []\n",
    "for i in mf_sce_germ.obs[\"Annotated\"].cat.categories:\n",
    "    genes = sc.get.rank_genes_groups_df(mf_sce_germ, group=i,pval_cutoff=0.01, log2fc_min=1.25, key=\"rank_genes_groups\").sort_values(by=\"logfoldchanges\", ascending=False).dropna(axis=0)[\"names\"].to_list()\n",
    "    germ_L1.extend(genes) "
   ]
  },
  {
   "cell_type": "code",
   "execution_count": null,
   "metadata": {},
   "outputs": [],
   "source": [
    "germ_unique_genes = list(unique_everseen(germ_L1))\n",
    "len(germ_unique_genes)"
   ]
  },
  {
   "cell_type": "code",
   "execution_count": null,
   "metadata": {},
   "outputs": [],
   "source": [
    "ax, mat_germ = sc.pl.matrixplot(mf_sce_germ, germ_L1, groupby=\"Annotated\", figsize=(10, 4),standard_scale=\"var\", linewidth=.00001,swap_axes=True,\n",
    "                 cmap=heatcolors_wr, dendrogram=False, layer=\"logcounts\",show=False, show_gene_labels=False)"
   ]
  },
  {
   "cell_type": "code",
   "execution_count": null,
   "metadata": {},
   "outputs": [],
   "source": [
    "mf_sce_germ.obsm[\"X_pca\"] = mf_sce_germ.obsm[\"mnn\"]"
   ]
  },
  {
   "cell_type": "code",
   "execution_count": null,
   "metadata": {},
   "outputs": [],
   "source": [
    "sc.pp.neighbors(mf_sce_germ, n_neighbors = 5) # Find the neighbours"
   ]
  },
  {
   "cell_type": "code",
   "execution_count": null,
   "metadata": {},
   "outputs": [],
   "source": [
    "sc.tl.paga(mf_sce_germ, groups=\"Annotated\") # PAGA - Partition-based graph abstraction"
   ]
  },
  {
   "cell_type": "code",
   "execution_count": null,
   "metadata": {},
   "outputs": [],
   "source": [
    "sc.pl.paga(mf_sce_germ, color=\"Annotated\", threshold=0.2848, fontsize=8, node_size_scale=1.8,\n",
    "           node_size_power=1, edge_width_scale=0.5, fontoutline=1, frameon=False)"
   ]
  },
  {
   "cell_type": "code",
   "execution_count": null,
   "metadata": {},
   "outputs": [],
   "source": [
    "mf_sce_germ.obs['germAD_clusters'] = mf_sce_germ.obs['Annotated']"
   ]
  },
  {
   "cell_type": "code",
   "execution_count": null,
   "metadata": {},
   "outputs": [],
   "source": [
    "mf_sce_germ.X = mf_sce_germ.layers[\"logcounts\"]"
   ]
  },
  {
   "cell_type": "markdown",
   "metadata": {},
   "source": [
    "### *MSCI related analysis in germ cells*"
   ]
  },
  {
   "cell_type": "code",
   "execution_count": null,
   "metadata": {},
   "outputs": [],
   "source": [
    "# Load gene annnotation file\n",
    "allgenes = pd.read_csv(\"/home/projects/11001611/working/prabhakaran/RNASeq/gene_annotation.txt\", index_col=0)"
   ]
  },
  {
   "cell_type": "code",
   "execution_count": null,
   "metadata": {},
   "outputs": [],
   "source": [
    "#chr_genes = {}\n",
    "for ch in allgenes['Chromosome'].astype(\"category\").cat.categories.tolist():\n",
    "    genes = allgenes[\"Chromosome\"]==ch\n",
    "    Agenes = set(allgenes[genes].index.tolist()).intersection(mf_sce_germ.var_names.tolist())\n",
    "    mf_sce_germ.obs[ch] = np.ravel((mf_sce_germ[:, list(Agenes)].X != 0).sum(axis=1))"
   ]
  },
  {
   "cell_type": "code",
   "execution_count": null,
   "metadata": {},
   "outputs": [],
   "source": [
    "AllChr_df = pd.DataFrame()\n",
    "for column in ['1', '10', '11', '12', '13', '14', '15', '16', '17', '18', '19', '2', '20', '3', '4', '5', '6', '7', '8', '9', 'MT', 'X', 'Y']:\n",
    "    x = mf_sce_germ.obs[column]\n",
    "    AllChr_df[column] = x\n",
    "    \n",
    "AllChr_df['germAD_clusters'] = mf_sce_germ.obs['germAD_clusters']\n",
    "AllChr_df_melted = AllChr_df.melt(id_vars=\"germAD_clusters\", var_name=\"key\", value_name=\"value\")"
   ]
  },
  {
   "cell_type": "code",
   "execution_count": null,
   "metadata": {},
   "outputs": [],
   "source": [
    "AllChr_df_melted_mean = AllChr_df_melted.groupby([\"germAD_clusters\", \"key\"], as_index=False).mean()\n",
    "#Reshape the data\n",
    "AllChr_df_mean_reshaped = AllChr_df_melted_mean.pivot(index=\"key\",columns=\"germAD_clusters\")"
   ]
  },
  {
   "cell_type": "code",
   "execution_count": null,
   "metadata": {},
   "outputs": [],
   "source": [
    "AllChr_df_melted_std = AllChr_df_melted.groupby([\"germAD_clusters\", \"key\"]).std().reset_index()\n",
    "AllChr_df_melted_std_reshaped = AllChr_df_melted_std.pivot(index=\"key\",columns=\"germAD_clusters\")"
   ]
  },
  {
   "cell_type": "code",
   "execution_count": null,
   "metadata": {},
   "outputs": [],
   "source": [
    "plt.rcParams[\"axes.linewidth\"] = 0.2\n",
    "plt.rcParams[\"figure.figsize\"]=7,3\n",
    "cols = [\"#87CEEB\", \"#83C8EA\", \"#7FC3E9\", \"#7BBEE9\", \"#78B8E8\", \"#74B3E8\", \n",
    "\"#70AEE7\", \"#6DA8E7\", \"#69A3E6\", \"#659EE6\", \"#6298E5\", \"#5E93E5\", \n",
    "\"#5A8EE4\", \"#5788E4\", \"#5383E3\", \"#4F7EE3\", \"#4C78E2\", \"#4873E2\", \n",
    "\"#446EE1\", \"#4169E1\", \"darkorange\"]\n",
    "i=0\n",
    "for c in ['1', '2','3', '4', '5', '6', '7', '8', '9', '10', '11', '12', '13', '14',\n",
    "          '15', '16', '17', '18', '19', '20', 'Y']:\n",
    "    plt.plot(AllChr_df_mean_reshaped.iloc[0].index.get_level_values(1).tolist(), \n",
    "             AllChr_df_mean_reshaped.loc[c], linewidth=0.75, color=cols[i], label = c,\n",
    "             alpha=1)\n",
    "    i+=1\n",
    "\n",
    "    \n",
    "plt.plot(AllChr_df_mean_reshaped.iloc[0].index.get_level_values(1).tolist(), \n",
    "             AllChr_df_mean_reshaped.iloc[21], linewidth=0.75, marker='', color= \"#C70039\", label=\"X\")\n",
    "# Add legend\n",
    "plt.legend(loc=\"center\", ncol=2, fontsize=6, bbox_to_anchor=(1.06, 0.58))\n",
    "# Add titles\n",
    "#plt.title(\"Mean no. of genes\", loc='left', fontsize=12, fontweight=2, color='black')\n",
    "plt.ylabel(\"Mean no. of genes\", fontsize=8)\n",
    "plt.xlabel(\"\")\n",
    "plt.xticks(rotation=40, fontsize=8,horizontalalignment=\"right\", rotation_mode=\"anchor\")\n",
    "plt.tick_params(axis=\"both\",  which=\"minor\", left=False)\n",
    "plt.tick_params(axis=\"both\",  which=\"major\",  bottom=True, top=False,  left=True, labelbottom=True, pad=0.5, length=1.5, labelsize=8)\n",
    "plt.yscale('log', basey=10)\n",
    "plt.tight_layout()\n",
    "plt.margins(0.003,0.003)\n",
    "plt.grid(linestyle='-', linewidth='0.1')"
   ]
  },
  {
   "cell_type": "code",
   "execution_count": null,
   "metadata": {},
   "outputs": [],
   "source": [
    "# Retrive chromosomes X, Y, 9 and autosomal genes for X to A ratio\n",
    "chrX_genes = allgenes[\"Chromosome\"]==\"X\"\n",
    "chrY_genes = allgenes[\"Chromosome\"]==\"Y\"\n",
    "chr9_genes = allgenes[\"Chromosome\"]==\"9\"\n",
    "chrA_genes = allgenes[~allgenes.Chromosome.isin([\"X\",\"Y\", \"MT\"])]"
   ]
  },
  {
   "cell_type": "code",
   "execution_count": null,
   "metadata": {},
   "outputs": [],
   "source": [
    "# Retrieve the X and Y genes specifically present in the germ cells alone\n",
    "germ_Xgenes = set(allgenes[chrX_genes].index.tolist()).intersection(mf_sce_germ.var_names.tolist())\n",
    "germ_Ygenes = set(allgenes[chrY_genes].index.tolist()).intersection(mf_sce_germ.var_names.tolist())\n",
    "germ_9genes = set(allgenes[chr9_genes].index.tolist()).intersection(mf_sce_germ.var_names.tolist())\n",
    "germ_Agenes = set(chrA_genes[\"gene_short_name\"].tolist()).intersection(mf_sce_germ.var_names.tolist())"
   ]
  },
  {
   "cell_type": "code",
   "execution_count": null,
   "metadata": {},
   "outputs": [],
   "source": [
    "# Calculate X to Autosome ratio, also Y to Autosome and as reference chr9 to Autosomes"
   ]
  },
  {
   "cell_type": "code",
   "execution_count": null,
   "metadata": {},
   "outputs": [],
   "source": [
    "mf_sce_germ.obs[\"Chr X\"] = np.mean(\n",
    "    mf_sce_germ[:, list(germ_Xgenes)].X, axis=1).A1 / np.mean(mf_sce_germ[:, list(germ_Agenes)].X, axis=1).A1\n",
    "\n",
    "mf_sce_germ.obs[\"Chr 9\"] = np.mean(\n",
    "    mf_sce_germ[:, list(germ_9genes)].X, axis=1).A1 / np.mean(mf_sce_germ[:, list(germ_Agenes)].X, axis=1).A1"
   ]
  },
  {
   "cell_type": "code",
   "execution_count": null,
   "metadata": {},
   "outputs": [],
   "source": [
    "germXA_data = mf_sce_germ.obs[\"germAD_clusters\"].to_frame().join(mf_sce_germ.obs[\"Chr 9\"]).join(mf_sce_germ.obs[\"Chr X\"])\n",
    "#Melt the data to long format\n",
    "germXA_data_melted = germXA_data.melt(id_vars=\"germAD_clusters\", var_name=\"key\", value_name=\"value\")"
   ]
  },
  {
   "cell_type": "code",
   "execution_count": null,
   "metadata": {},
   "outputs": [],
   "source": [
    "## Test if the X:A ratio is significantly different between Late diff vs Zyg\n",
    "from scipy import stats\n",
    "\n",
    "stats.mannwhitneyu(germXA_data_melted[(germXA_data_melted['germAD_clusters'].isin(['Late diff'])) & (germXA_data_melted['key'].isin(['Chr X']))].value,\n",
    "              germXA_data_melted[(germXA_data_melted['germAD_clusters'].isin(['Zyg'])) & (germXA_data_melted['key'].isin(['Chr X']))].value)"
   ]
  },
  {
   "cell_type": "code",
   "execution_count": null,
   "metadata": {},
   "outputs": [],
   "source": [
    "## Plot the mean X:A ratio of each cell as violin\n",
    "\n",
    "from matplotlib.ticker import FormatStrFormatter\n",
    "\n",
    "plt.rcParams[\"figure.figsize\"]=7,3\n",
    "bx = sns.violinplot(x=\"germAD_clusters\", y=\"value\",\n",
    "            hue=\"key\", palette=[\"#0D8DB3\",\"#C70039\"],fliersize=0.1,linewidth=0.5,split=True,scale=\"count\",inner=\"quartile\",\n",
    "            data=germXA_data_melted)\n",
    "bx.set(xlabel=\"\")\n",
    "bx.set_ylabel(\"Chromosome:Autosome ratio\", fontsize=8)\n",
    "bx.set_xticklabels(bx.get_xticklabels(), rotation=40, fontsize=8,horizontalalignment=\"right\", rotation_mode=\"anchor\", visible=True)\n",
    "bx.grid(linestyle='-', linewidth='0.1')\n",
    "bx.tick_params(\n",
    "    axis=\"both\",          # changes apply to the x-axis\n",
    "    which=\"major\",      # both major and minor ticks are affected\n",
    "    bottom=True,      # ticks along the bottom edge are off\n",
    "    top=False,  left=True, labeltop=False,      # ticks along the top edge are off\n",
    "    labelbottom=True, pad=0.5, length=1.5)\n",
    "bx.axhline(y=0.5,color='gray',linestyle='--')\n",
    "bx.axhline(y=1,color='gray',linestyle='--')\n",
    "plt.legend(loc=\"upper right\", fontsize=6)\n",
    "plt.tight_layout()"
   ]
  },
  {
   "cell_type": "markdown",
   "metadata": {},
   "source": [
    "### *Pseudotime analysis*"
   ]
  },
  {
   "cell_type": "code",
   "execution_count": null,
   "metadata": {},
   "outputs": [],
   "source": [
    "sc.pp.neighbors(mf_sce_germ, n_pcs=50, knn=False, method=\"gauss\")# Find the neighbours\n",
    "sc.tl.diffmap(mf_sce_germ)"
   ]
  },
  {
   "cell_type": "code",
   "execution_count": null,
   "metadata": {},
   "outputs": [],
   "source": [
    "mf_sce_germ.uns[\"iroot\"] = np.flatnonzero(mf_sce_germ.obs[\"germAD_clusters\"]  == \"Undiff1\")[0] # Set the root cell\n",
    "sc.tl.dpt(mf_sce_germ)"
   ]
  },
  {
   "cell_type": "code",
   "execution_count": null,
   "metadata": {},
   "outputs": [],
   "source": [
    "sc.settings.set_figure_params(dpi=100, dpi_save=300, format=\"pdf\")\n",
    "sns.set_context(\"paper\", font_scale=1, rc={\"font.size\":8,\"axes.labelsize\":12,\"axes.titlesize\":12})"
   ]
  },
  {
   "cell_type": "code",
   "execution_count": null,
   "metadata": {},
   "outputs": [],
   "source": [
    "sc.pl.tsne(mf_sce_germ, color=[\"dpt_pseudotime\"], legend_fontsize=10, cmap= \"viridis\",\n",
    "           size=20, edgecolor=\"black\", linewidths=0.05,title=\"\") #Use gauss method to find neighbors to get proper pseudotime"
   ]
  },
  {
   "cell_type": "markdown",
   "metadata": {},
   "source": [
    "## *Analysis on macaque sex chromosome genes*"
   ]
  },
  {
   "cell_type": "code",
   "execution_count": null,
   "metadata": {},
   "outputs": [],
   "source": [
    "# Load chr X gene annnotation file\n",
    "Xgenes = pd.read_csv(\"/home/projects/11001611/working/prabhakaran/RNASeq/28Feb/Macaque/Macaque_Xgenes_Annotated_updated.csv\")"
   ]
  },
  {
   "cell_type": "code",
   "execution_count": null,
   "metadata": {},
   "outputs": [],
   "source": [
    "Xgenes.index = Xgenes['gene_short_name'].tolist()"
   ]
  },
  {
   "cell_type": "code",
   "execution_count": null,
   "metadata": {},
   "outputs": [],
   "source": [
    "germXsingle_sce = mf_sce_germ[:,mf_sce_germ.var['Symbol'][mf_sce_germ.var['Symbol'].isin(Xgenes['gene_short_name'][Xgenes['gene_class']==\"SingleCopy\"])].tolist()]\n",
    "germXMulti_sce = mf_sce_germ[:,mf_sce_germ.var['Symbol'][mf_sce_germ.var['Symbol'].isin(Xgenes['gene_short_name'][Xgenes['gene_class']==\"MultiCopy\"])].tolist()]\n",
    "germXAmpliconic_sce = mf_sce_germ[:,mf_sce_germ.var['Symbol'][mf_sce_germ.var['Symbol'].isin(Xgenes['gene_short_name'][Xgenes['gene_class']==\"Ampliconic\"])].tolist()]\n",
    "germY_sce = mf_sce_germ[:,list(germ_Ygenes)]\n",
    "\n",
    "sc.tl.rank_genes_groups(germXsingle_sce, \"Annotated\", n_genes=1000, method=\"wilcoxon\", layer=\"logcounts\", use_raw=False);\n",
    "sc.tl.rank_genes_groups(germXMulti_sce, \"Annotated\", n_genes=1000, method=\"wilcoxon\", layer=\"logcounts\", use_raw=False);\n",
    "sc.tl.rank_genes_groups(germXAmpliconic_sce, \"Annotated\", n_genes=1000, method=\"wilcoxon\", layer=\"logcounts\", use_raw=False);\n",
    "sc.tl.rank_genes_groups(germY_sce, \"Annotated\", n_genes=1000, method=\"wilcoxon\", layer=\"logcounts\", use_raw=False);\n",
    "\n",
    "\n",
    "singleX_L1 = []\n",
    "for i in germXsingle_sce.obs[\"Annotated\"].cat.categories:\n",
    "    genes = sc.get.rank_genes_groups_df(germXsingle_sce, group=i,log2fc_min=0.5, key=\"rank_genes_groups\").sort_values(by=\"logfoldchanges\", ascending=False).dropna(axis=0)[\"names\"].to_list()\n",
    "    singleX_L1.extend(genes)\n",
    "    \n",
    "MultiX_L1 = []\n",
    "for i in germXMulti_sce.obs[\"Annotated\"].cat.categories:\n",
    "    genes = sc.get.rank_genes_groups_df(germXMulti_sce, group=i,log2fc_min=0.5, key=\"rank_genes_groups\").sort_values(by=\"logfoldchanges\", ascending=False).dropna(axis=0)[\"names\"].to_list()\n",
    "    MultiX_L1.extend(genes)\n",
    "    \n",
    "Ampli_L1 = []\n",
    "for i in germXAmpliconic_sce.obs[\"Annotated\"].cat.categories:\n",
    "    genes = sc.get.rank_genes_groups_df(germXAmpliconic_sce, group=i,log2fc_min=0.5, key=\"rank_genes_groups\").sort_values(by=\"logfoldchanges\", ascending=False).dropna(axis=0)[\"names\"].to_list()\n",
    "    Ampli_L1.extend(genes)\n",
    "    \n",
    "singleY_L1 = []\n",
    "for i in germY_sce.obs[\"Annotated\"].cat.categories:\n",
    "    genes = sc.get.rank_genes_groups_df(germY_sce, group=i,log2fc_min=0.5, key=\"rank_genes_groups\").sort_values(by=\"logfoldchanges\", ascending=False).dropna(axis=0)[\"names\"].to_list()\n",
    "    singleY_L1.extend(genes)\n",
    "\n",
    "singleX_unique = pd.Series(singleX_L1).drop_duplicates().tolist()\n",
    "MultiX_unique = pd.Series(MultiX_L1).drop_duplicates().tolist()\n",
    "Ampli_unique = pd.Series(Ampli_L1).drop_duplicates().tolist()\n",
    "singleY_unique = pd.Series(singleY_L1).drop_duplicates().tolist()\n",
    "mf_sce_germ.uns['singleX_unique'] = singleX_unique\n",
    "mf_sce_germ.uns['MultiX_unique'] = MultiX_unique\n",
    "mf_sce_germ.uns['Ampli_unique'] = Ampli_unique\n",
    "mf_sce_germ.uns['singleY_unique'] = singleY_unique\n",
    "\n",
    "print(\"No. of single X copy genes: %d\" %len(singleX_unique))\n",
    "print(\"No. of multi X copy genes: %d\" %len(MultiX_unique))\n",
    "print(\"No. of ampliconic X genes: %d\" %len(Ampli_unique))\n",
    "print(\"No. of Y genes: %d\" %len(singleY_unique))"
   ]
  },
  {
   "cell_type": "code",
   "execution_count": null,
   "metadata": {},
   "outputs": [],
   "source": [
    "XYgenes = {'X Single-copy':singleX_unique, 'X Multi-copy':MultiX_unique, 'X Ampliconic':Ampli_unique, 'Y':singleY_unique}"
   ]
  },
  {
   "cell_type": "code",
   "execution_count": null,
   "metadata": {},
   "outputs": [],
   "source": [
    "X_sma = {'X Single-copy':singleX_unique, 'X Multi-copy':MultiX_unique, 'X Ampliconic':Ampli_unique}"
   ]
  },
  {
   "cell_type": "markdown",
   "metadata": {},
   "source": [
    "#### *X chromsome genes (Single, multi-copy and ampliconic) gene expression*"
   ]
  },
  {
   "cell_type": "code",
   "execution_count": null,
   "metadata": {},
   "outputs": [],
   "source": [
    "ax = sc.pl.matrixplot(mf_sce_germ, X_sma, groupby=\"Annotated\", figsize=(8,8),standard_scale=\"var\", linewidth=.01,swap_axes=True,\n",
    "                 cmap=heatcolors_wr, dendrogram=False, layer=\"logcounts\", show_gene_labels=False)"
   ]
  },
  {
   "cell_type": "markdown",
   "metadata": {},
   "source": [
    "#### *X chromsome genes (multi-copy and ampliconic) gene expression*"
   ]
  },
  {
   "cell_type": "code",
   "execution_count": null,
   "metadata": {},
   "outputs": [],
   "source": [
    "ax = sc.pl.matrixplot(mf_sce_germ, {'Multi':MultiX_unique,'Ampli':Ampli_unique}, groupby=\"Annotated\", figsize=(8,7),standard_scale=\"var\", linewidth=.01,swap_axes=True,\n",
    "                 cmap=heatcolors_wr, dendrogram=False, layer=\"logcounts\", show_gene_labels=True)"
   ]
  },
  {
   "cell_type": "code",
   "execution_count": null,
   "metadata": {},
   "outputs": [],
   "source": [
    "Xgenes_mf = Xgenes[Xgenes['gene_short_name'].isin(mf_sce_germ.var['Symbol'])]"
   ]
  },
  {
   "cell_type": "code",
   "execution_count": null,
   "metadata": {},
   "outputs": [],
   "source": [
    "Xgenes_mf['gene_class'].value_counts()"
   ]
  },
  {
   "cell_type": "code",
   "execution_count": null,
   "metadata": {},
   "outputs": [],
   "source": [
    "pd.crosstab(Xgenes_mf['gene_class'], Xgenes_mf['Shared'])"
   ]
  },
  {
   "cell_type": "code",
   "execution_count": null,
   "metadata": {},
   "outputs": [],
   "source": [
    "MultiX_unique_shared = {}\n",
    "for i in Xgenes_mf['Shared'].astype('category').cat.categories:\n",
    "    genes = [x for x in MultiX_unique if x in Xgenes_mf['gene_short_name'][(Xgenes_mf['gene_class']=='MultiCopy') & (Xgenes_mf['Shared']==i)].tolist()]\n",
    "    MultiX_unique_shared[i] = genes"
   ]
  },
  {
   "cell_type": "markdown",
   "metadata": {},
   "source": [
    "#### *X chromosome multi-copy gene expression along with its conservation type*"
   ]
  },
  {
   "cell_type": "code",
   "execution_count": null,
   "metadata": {},
   "outputs": [],
   "source": [
    "ax = sc.pl.matrixplot(mf_sce_germ, MultiX_unique_shared, groupby=\"Annotated\", figsize=(8,7),standard_scale=\"var\", linewidth=.1,swap_axes=True,\n",
    "                 cmap=heatcolors_wr, dendrogram=False, layer=\"logcounts\", show_gene_labels=True)"
   ]
  },
  {
   "cell_type": "code",
   "execution_count": null,
   "metadata": {},
   "outputs": [],
   "source": [
    "AmpliX_unique_shared = {}\n",
    "for i in Xgenes_mf['Shared'].astype('category').cat.categories:\n",
    "    genes = [x for x in Ampli_unique if x in Xgenes_mf['gene_short_name'][(Xgenes_mf['gene_class']=='Ampliconic') & (Xgenes_mf['Shared']==i)].tolist()]\n",
    "    AmpliX_unique_shared[i] = genes"
   ]
  },
  {
   "cell_type": "markdown",
   "metadata": {},
   "source": [
    "#### *X chromosome ampliconic gene expression along with its conservation type*"
   ]
  },
  {
   "cell_type": "code",
   "execution_count": null,
   "metadata": {},
   "outputs": [],
   "source": [
    "ax = sc.pl.matrixplot(mf_sce_germ, AmpliX_unique_shared, groupby=\"Annotated\", figsize=(8,7),standard_scale=\"var\", linewidth=.1,swap_axes=True,\n",
    "                 cmap=heatcolors_wr, dendrogram=False, layer=\"logcounts\", show_gene_labels=True)"
   ]
  },
  {
   "cell_type": "markdown",
   "metadata": {},
   "source": [
    "#### *Y chromosome gene expression as dotplot*"
   ]
  },
  {
   "cell_type": "code",
   "execution_count": null,
   "metadata": {},
   "outputs": [],
   "source": [
    "sc.pl.dotplot(mf_sce_germ,mf_sce_germ.uns['singleY_unique'], groupby=\"Annotated\", figsize=(8,6), standard_scale=\"var\",color_map=heatcolors_wr,\n",
    "                 dendrogram=False, layer=\"logcounts\")"
   ]
  },
  {
   "cell_type": "markdown",
   "metadata": {},
   "source": [
    "### *Visualize the number of single/multi/ampliconic genes of Chromosome X expressed across germ cells as pie-chart*"
   ]
  },
  {
   "cell_type": "code",
   "execution_count": null,
   "metadata": {},
   "outputs": [],
   "source": [
    "mf_sce_germ.obs['ForPie'] = mf_sce_germ.obs['Annotated']\n",
    "\n",
    "mf_sce_germ.obs['ForPie'] = mf_sce_germ.obs['ForPie'].replace({\n",
    "    \"Mid diff\":\"Mid-diff\",\n",
    "    \"Late diff\":\"Late-diff\",\n",
    "    \"Dip & Sec. Spcs\":\"Dip-SecSpcs\"\n",
    "})"
   ]
  },
  {
   "cell_type": "code",
   "execution_count": null,
   "metadata": {},
   "outputs": [],
   "source": [
    "X_pie_df = pd.DataFrame(columns=[\"Unexpressed\", \"Single-copy\", \"Multicopy\", \"Ampliconic\"], index=['Undiff1', 'Undiff2', 'Undiff3', 'E-diff1', 'E-diff2', 'E-diff3',\n",
    "       'E-diff4', 'Mid-diff', 'Late-diff', 'pre-Lep', 'Lep', 'Zyg', 'Pach1',\n",
    "       'Pach2', 'Pach3', 'Pach4', 'Pach5', 'Pach6', 'Pach7', 'Pach8', 'Pach9',\n",
    "       'Pach10', 'Dip-SecSpcs', 'RS1', 'RS2', 'RS3', 'RS4', 'RS5', 'RS6',\n",
    "       'RS7', 'ES1', 'ES2', 'ES3', 'ES4', 'ES5', 'ES6', 'Imm. Sperm'])"
   ]
  },
  {
   "cell_type": "code",
   "execution_count": null,
   "metadata": {},
   "outputs": [],
   "source": [
    "for i in mf_sce_germ.obs['ForPie'].astype('category').cat.categories.tolist():\n",
    "    df = i+\"_df\"\n",
    "    df = mf_sce_germ[mf_sce_germ.obs['ForPie'].isin([i]),:]\n",
    "    df = df[:,list(germ_Xgenes)]\n",
    "    sc.pp.filter_genes(df, min_cells=round((df.n_obs*0.05)));\n",
    "    X_pie_df.loc[i] = [934-df.n_vars, len(df.var['Symbol'][df.var['Symbol'].isin(singleX_unique)]), len(df.var['Symbol'][df.var['Symbol'].isin(MultiX_unique)]), len(df.var['Symbol'][df.var['Symbol'].isin(Ampli_unique)])]"
   ]
  },
  {
   "cell_type": "code",
   "execution_count": null,
   "metadata": {},
   "outputs": [],
   "source": [
    "X_pie_df = X_pie_df.div(X_pie_df.sum(axis=1), axis=0)"
   ]
  },
  {
   "cell_type": "code",
   "execution_count": null,
   "metadata": {},
   "outputs": [],
   "source": [
    "fig, axs = plt.subplots(ncols=37, nrows=1, figsize=(20,3))\n",
    "\n",
    "fig.subplots_adjust(hspace=0.5, wspace=0.05)\n",
    "for row, ax in enumerate(axs.flatten()):\n",
    "    ax.pie(X_pie_df.loc[X_pie_df.index[row],:],radius = 1, labels=None, colors=[\"darkgrey\", \"midnightblue\", \"darkorange\", \"forestgreen\"]) \n",
    "    ax.set_title(X_pie_df.index[row], fontsize=10, rotation=40, horizontalalignment='left')\n",
    "fig.legend(X_pie_df.columns, ncol=1,loc=\"upper right\", bbox_to_anchor=(0.5, 0.4), fontsize=10)\n",
    "plt.show()"
   ]
  },
  {
   "cell_type": "code",
   "execution_count": null,
   "metadata": {},
   "outputs": [],
   "source": [
    "sc.settings.set_figure_params(dpi=100, dpi_save=300, format=\"pdf\")\n",
    "sns.set_context(\"paper\", font_scale=1, rc={\"font.size\":6,\"axes.labelsize\":12,\"axes.titlesize\":12})"
   ]
  },
  {
   "cell_type": "markdown",
   "metadata": {},
   "source": [
    "### *Visualising the expression of DDR genes in germ cells*"
   ]
  },
  {
   "cell_type": "code",
   "execution_count": null,
   "metadata": {},
   "outputs": [],
   "source": [
    "## Used the term \"DNA damage response\" in Panther database to retrive DDR genes"
   ]
  },
  {
   "cell_type": "code",
   "execution_count": null,
   "metadata": {},
   "outputs": [],
   "source": [
    "sub1 = ['BRCA2', 'MSH3', 'PMS1', 'BAX', 'RPA2', 'XPA', 'TP53BP1', 'MSH2', 'RAD52', 'FANCC', 'XRCC3', \n",
    "        'ENSMFAG00000000382', 'BRCA1', 'RECQL4', 'XRCC4', 'RECQL', 'PARP2', \n",
    "        'ENSMFAG00000039395', 'RAD51C', 'ENSMFAG00000036138', 'ATM', 'RECQL5', 'ENSMFAG00000033904',\n",
    "        'RAD21L1', 'NIPBL', 'ATR', 'RAD9B', 'MLH3', 'MSH4', 'MSH6', 'HUS1B', 'RAD17', 'LIG4', 'RAD1', 'XRCC6', 'FANCG', 'RAD51', \n",
    "        'XRCC5', 'MLH1', 'RAD9A', 'MDC1', 'MRE11', 'SPO11', 'CBX1', 'H2AFX', 'HORMAD1', 'HORMAD2', 'SETDB1', 'TOPBP1', 'TRIM28']"
   ]
  },
  {
   "cell_type": "code",
   "execution_count": null,
   "metadata": {},
   "outputs": [],
   "source": [
    "DDR_sub_unique_sce = mf_sce_germ[:,sub1]"
   ]
  },
  {
   "cell_type": "code",
   "execution_count": null,
   "metadata": {},
   "outputs": [],
   "source": [
    "sc.tl.rank_genes_groups(DDR_sub_unique_sce, \"Annotated\", n_genes=210, method=\"wilcoxon\", layer=\"logcounts\", use_raw=False)"
   ]
  },
  {
   "cell_type": "code",
   "execution_count": null,
   "metadata": {},
   "outputs": [],
   "source": [
    "L1 = []\n",
    "for i in DDR_sub_unique_sce.obs[\"Annotated\"].cat.categories:\n",
    "    genes = sc.get.rank_genes_groups_df(DDR_sub_unique_sce, group=i,log2fc_min=1,pval_cutoff=1, key=\"rank_genes_groups\").sort_values(by=\"logfoldchanges\", ascending=False).dropna(axis=0)[\"names\"].to_list()\n",
    "    L1.extend(genes) "
   ]
  },
  {
   "cell_type": "code",
   "execution_count": null,
   "metadata": {},
   "outputs": [],
   "source": [
    "sub1_unique = pd.Series(L1).drop_duplicates().tolist()"
   ]
  },
  {
   "cell_type": "code",
   "execution_count": null,
   "metadata": {},
   "outputs": [],
   "source": [
    "len(sub1_unique)"
   ]
  },
  {
   "cell_type": "code",
   "execution_count": null,
   "metadata": {},
   "outputs": [],
   "source": [
    "ax = sc.pl.matrixplot(mf_sce_germ,sub1_unique, groupby=\"Annotated\", figsize=(7,5),standard_scale=\"var\", linewidth=.1,swap_axes=True,\n",
    "                 cmap=heatcolors_wr, dendrogram=False, layer=\"logcounts\", show_gene_labels=True)"
   ]
  },
  {
   "cell_type": "markdown",
   "metadata": {},
   "source": [
    "### *Visualize the number of ortholog and species-specific genes expressed across germ cells*"
   ]
  },
  {
   "cell_type": "code",
   "execution_count": null,
   "metadata": {},
   "outputs": [],
   "source": [
    "mf_unique = pd.read_csv(\"/home/projects/11001611/working/prabhakaran/RNASeq/17Apr_rev/Mf_unique.txt\")"
   ]
  },
  {
   "cell_type": "code",
   "execution_count": null,
   "metadata": {},
   "outputs": [],
   "source": [
    "Orthologs = pd.read_csv(\"/home/projects/11001611/working/prabhakaran/RNASeq/Human_Mouse_Monkey_orthologs_21Feb_clean.txt\", sep=\" \")"
   ]
  },
  {
   "cell_type": "code",
   "execution_count": null,
   "metadata": {},
   "outputs": [],
   "source": [
    "Orthologs = Orthologs[(Orthologs.Crab_eating_macaque_homology_type==\"ortholog_one2one\") & (Orthologs.Mouse_homology_type==\"ortholog_one2one\")]"
   ]
  },
  {
   "cell_type": "code",
   "execution_count": null,
   "metadata": {},
   "outputs": [],
   "source": [
    "mf_ortho_df = pd.DataFrame(columns=[\"1:1:1 Othologs\", \"Macaque_specific\", \"Other orthologs\"])"
   ]
  },
  {
   "cell_type": "code",
   "execution_count": null,
   "metadata": {},
   "outputs": [],
   "source": [
    "for i in mf_sce_germ.obs['Annotated'].astype('category').cat.categories.tolist():\n",
    "    df = i+\"_df\"\n",
    "    df = mf_sce_germ[mf_sce_germ.obs['Annotated'].isin([i]),:];\n",
    "    #df = df[:,list(germ_Xgenes)]\n",
    "    sc.pp.filter_genes(df, min_cells=round((df.n_obs*0.05)));\n",
    "    mf_ortho_df.loc[i] = [len(df.var['ID'][df.var['ID'].isin(Orthologs.Crab_eating_macaque_gene_stable_ID.tolist())])/len(df.var['ID'])*100,\n",
    "                          len(df.var['ID'][df.var['ID'].isin(mf_unique['x'].tolist())])/len(df.var['ID'])*100,\n",
    "                         len(df.var['ID'][~df.var['ID'].isin(Orthologs.Crab_eating_macaque_gene_stable_ID.tolist()+mf_unique['x'].tolist())])/len(df.var['ID'])*100]"
   ]
  },
  {
   "cell_type": "code",
   "execution_count": null,
   "metadata": {},
   "outputs": [],
   "source": [
    "mf_ortho_df['Groups'] = mf_ortho_df.index"
   ]
  },
  {
   "cell_type": "code",
   "execution_count": null,
   "metadata": {},
   "outputs": [],
   "source": [
    "mf_ortho_df_melted = mf_ortho_df.melt('Groups', var_name='Type',  value_name='value')\n",
    "g=sns.catplot(x=\"Groups\", y=\"value\", hue='Type', data=mf_ortho_df_melted, kind=\"point\",\n",
    "              palette = [\"#DF8F44FF\", \"#4B706B\", \"#80796BFF\"],s=0.1, height=5, aspect=1.3, scale = 0.6)\n",
    "plt.xticks(rotation=40, fontsize=8,horizontalalignment=\"right\", rotation_mode=\"anchor\");\n",
    "plt.xlabel(\"\");\n",
    "plt.ylabel(\"% Genes expressed\", fontsize=10);"
   ]
  }
 ],
 "metadata": {
  "kernelspec": {
   "display_name": "Python 3",
   "language": "python",
   "name": "python3"
  },
  "language_info": {
   "codemirror_mode": {
    "name": "ipython",
    "version": 3
   },
   "file_extension": ".py",
   "mimetype": "text/x-python",
   "name": "python",
   "nbconvert_exporter": "python",
   "pygments_lexer": "ipython3",
   "version": "3.8.1"
  }
 },
 "nbformat": 4,
 "nbformat_minor": 4
}
